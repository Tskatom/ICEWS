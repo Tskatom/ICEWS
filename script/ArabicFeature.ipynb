{
 "metadata": {
  "name": "ArabicFeature"
 },
 "nbformat": 3,
 "nbformat_minor": 0,
 "worksheets": [
  {
   "cells": [
    {
     "cell_type": "heading",
     "level": 1,
     "metadata": {},
     "source": [
      "Extract the Leading Sentence From Arabia Inform"
     ]
    },
    {
     "cell_type": "code",
     "collapsed": false,
     "input": [
      "import json\n",
      "import goslate\n",
      "\n",
      "f = \"/raid/tskatom/seed_protest_document_count_filter/arabia-news-2014-11-20-19-23-32\"\n",
      "posts = json.load(open(f))"
     ],
     "language": "python",
     "metadata": {},
     "outputs": [],
     "prompt_number": 117
    },
    {
     "cell_type": "heading",
     "level": 2,
     "metadata": {},
     "source": [
      "Keys of Arabia Inform Data"
     ]
    },
    {
     "cell_type": "code",
     "collapsed": false,
     "input": [
      "posts['Syria'][\"2014-11-19\"][0].keys()"
     ],
     "language": "python",
     "metadata": {},
     "outputs": [
      {
       "output_type": "pyout",
       "prompt_number": 118,
       "text": [
        "[u'ProgramClassification',\n",
        " u'AppendixName',\n",
        " u'Author',\n",
        " u'LangNameE',\n",
        " u'Retweeted',\n",
        " u'ReplayDays',\n",
        " u'Comments',\n",
        " u'LangNameA',\n",
        " u'DocURL',\n",
        " u'PageName',\n",
        " u'RetweetCount',\n",
        " u'Persons',\n",
        " u'SourceID',\n",
        " u'Translator',\n",
        " u'parentId',\n",
        " u'FullPageName',\n",
        " u'ProgramTypeE',\n",
        " u'IncludeBreaksE',\n",
        " u'IncludeBreaksA',\n",
        " u'ClipNo',\n",
        " u'ImageName',\n",
        " u'Products',\n",
        " u'MentionedUrls',\n",
        " u'SubMediaType',\n",
        " u'DisplayRateA',\n",
        " u'DisplayRateE',\n",
        " u'FileName',\n",
        " u'Quotes',\n",
        " u'SourceApplication',\n",
        " u'ProgramType',\n",
        " u'Corner',\n",
        " u'DocTypeID',\n",
        " u'NatNameE',\n",
        " u'LangID',\n",
        " u'StylePresentation',\n",
        " u'SourceTypeE',\n",
        " u'Dialect',\n",
        " u'MainPageName',\n",
        " u'LangNameLC',\n",
        " u'AccountScreenName',\n",
        " u'HtmlName',\n",
        " u'PublishCountryA',\n",
        " u'LikeCount',\n",
        " u'ReplyToAccount',\n",
        " u'SubjectClassificationE',\n",
        " u'SubjectClassificationA',\n",
        " u'PublishCountryISO3',\n",
        " u'PublisherNationalityA',\n",
        " u'SourceDocID',\n",
        " u'PublisherNationalityE',\n",
        " u'GeneralClassificationE',\n",
        " u'DocID',\n",
        " u'Places',\n",
        " u'GeneralClassificationA',\n",
        " u'ProgramCode',\n",
        " u'Orgs',\n",
        " u'NatID',\n",
        " u'SourceType',\n",
        " u'Abstract',\n",
        " u'PublisherNameE',\n",
        " u'AccountStory',\n",
        " u'DisplayDays',\n",
        " u'LinkName',\n",
        " u'feed',\n",
        " u'Subjects',\n",
        " u'DocDS',\n",
        " u'Events',\n",
        " u'NatISO3',\n",
        " u'SourceName',\n",
        " u'LangNameNorm',\n",
        " u'NatNameNorm',\n",
        " u'SourceNameLC',\n",
        " u'RawData',\n",
        " u'NewsRef',\n",
        " u'FullText',\n",
        " u'PostType',\n",
        " u'NatNameLC',\n",
        " u'embersId',\n",
        " u'AppendixID',\n",
        " u'Truncated',\n",
        " u'Guests',\n",
        " u'Keywords',\n",
        " u'ProgramNameA',\n",
        " u'ProgramNameE',\n",
        " u'DocDate',\n",
        " u'HashTags',\n",
        " u'DocumentTime',\n",
        " u'MentionedUsers',\n",
        " u'Favorited',\n",
        " u'DisplayTime',\n",
        " u'SourceNameE',\n",
        " u'PublisherNationalityISO3',\n",
        " u'SourceNameA',\n",
        " u'DocType',\n",
        " u'BatchID',\n",
        " u'LinkDescription',\n",
        " u'NatNameA',\n",
        " u'PublisherNameA',\n",
        " u'PublisherTypeE',\n",
        " u'StartTimeClip',\n",
        " u'PublisherTypeA',\n",
        " u'SourceNameNorm',\n",
        " u'RealText',\n",
        " u'Caption',\n",
        " u'PressID',\n",
        " u'date',\n",
        " u'OCRFullText',\n",
        " u'UpdateDocDate',\n",
        " u'feedPath',\n",
        " u'AppendixNameE',\n",
        " u'AppendixNameA',\n",
        " u'MultiMediaList',\n",
        " u'ReplyTo',\n",
        " u'SubMediaTypeE',\n",
        " u'DocDateISO',\n",
        " u'AccountType',\n",
        " u'PublishCountryE',\n",
        " u'LikeAccounts']"
       ]
      }
     ],
     "prompt_number": 118
    },
    {
     "cell_type": "heading",
     "level": 1,
     "metadata": {},
     "source": [
      "Extract the Top Freqs Related Terms from Posts"
     ]
    },
    {
     "cell_type": "code",
     "collapsed": false,
     "input": [
      "from textblob import TextBlob\n",
      "country_result = {}\n",
      "for country in posts:\n",
      "    country_result.setdefault(country, [])\n",
      "    n_grams = []\n",
      "    for day in posts[country]:\n",
      "        for post in posts[country][day]:\n",
      "            caption = post[\"Caption\"]\n",
      "            fullText = post[\"FullText\"]\n",
      "            full_text_blob = TextBlob(fullText)\n",
      "            lead_sent = full_text_blob.sentences[0]\n",
      "            caption_blob = TextBlob(caption)\n",
      "            n_grams += caption_blob.ngrams(n=2)\n",
      "            n_grams += lead_sent.ngrams(n=2)\n",
      "    #compute the frequency of the n_grams\n",
      "    hash_n_grams = [u' '.join(wl) for wl in n_grams]\n",
      "    c = Counter(hash_n_grams)\n",
      "    top_freqs = []\n",
      "    k = 20\n",
      "    \n",
      "    for w in c.most_common(k*2):\n",
      "        if k <= 0:\n",
      "            break\n",
      "        b = TextBlob(w[0])\n",
      "        try:\n",
      "            w[0].encode('ascii')\n",
      "        except UnicodeEncodeError:\n",
      "            top_freqs.append((w[0], w[1]))\n",
      "            k -= 1\n",
      "        else:\n",
      "            print w[0]\n",
      "    country_result[country] = top_freqs\n",
      "            "
     ],
     "language": "python",
     "metadata": {},
     "outputs": [
      {
       "output_type": "stream",
       "stream": "stdout",
       "text": [
        "LsdException Locked\n",
        "false Priority\n",
        "w LsdException\n",
        "false UnhideWhenUsed\n",
        "UnhideWhenUsed false\n",
        "Locked false\n",
        "SemiHidden false\n",
        "false Name\n"
       ]
      }
     ],
     "prompt_number": 165
    },
    {
     "cell_type": "code",
     "collapsed": false,
     "input": [
      "country_result[country]"
     ],
     "language": "python",
     "metadata": {},
     "outputs": [
      {
       "output_type": "pyout",
       "prompt_number": 166,
       "text": [
        "[(u'\\u0635\\u062f\\u0627\\u0645 \\u062d\\u0633\\u064a\\u0646', 35),\n",
        " (u'\\u0632\\u0641\\u0627\\u0641 \\u0623\\u0633\\u0637\\u0648\\u0631\\u064a', 29),\n",
        " (u'\\u0627\\u0644\\u0631\\u0626\\u064a\\u0633 \\u0627\\u0644\\u0639\\u0631\\u0627\\u0642\\u064a',\n",
        "  26),\n",
        " (u'\\u0628\\u0639\\u062f \\u0623\\u0646', 20),\n",
        " (u'\\u0627\\u0644\\u0644\\u0647 \\u0639\\u0644\\u064a\\u0647', 20),\n",
        " (u'\\u0635\\u0644\\u0649 \\u0627\\u0644\\u0644\\u0647', 19),\n",
        " (u'\\u0627\\u0644\\u0644\\u0647 \\u0641\\u064a', 19),\n",
        " (u'\\u0627\\u0644\\u0644\\u0647 \\u0627\\u0644\\u0644\\u0647', 18),\n",
        " (u'\\u0639\\u0644\\u064a\\u0647 \\u0648\\u0633\\u0644\\u0645', 17),\n",
        " (u'\\u062d\\u0633\\u064a\\u0646 \\u0643\\u0627\\u0645\\u0644', 17),\n",
        " (u'\\u0641\\u064a \\u0627\\u0644\\u0639\\u0631\\u0627\\u0642', 16),\n",
        " (u'\\u0627\\u0644\\u0639\\u0631\\u0627\\u0642\\u064a \\u0627\\u0644\\u0623\\u0633\\u0628\\u0642',\n",
        "  16),\n",
        " (u'\\u062d\\u0641\\u064a\\u062f\\u0629 \\u0627\\u0644\\u0631\\u0626\\u064a\\u0633', 16),\n",
        " (u'\\u0644\\u062d\\u0641\\u064a\\u062f\\u0629 \\u0635\\u062f\\u0627\\u0645', 16),\n",
        " (u'\\u0627\\u0644\\u0623\\u0633\\u0628\\u0642 \\u0635\\u062f\\u0627\\u0645', 16),\n",
        " (u'20 \\u0646\\u0648\\u0641\\u0645\\u0628\\u0631', 16),\n",
        " (u'\\u0623\\u0633\\u0637\\u0648\\u0631\\u064a \\u0644\\u062d\\u0641\\u064a\\u062f\\u0629',\n",
        "  16),\n",
        " (u'\\u0628\\u0646\\u0627\\u0646 \\u062d\\u0633\\u064a\\u0646', 15),\n",
        " (u'\\u0627\\u0644\\u062e\\u0645\\u064a\\u0633 20', 15),\n",
        " (u'\\u0646\\u062d\\u0648 \\u0627\\u0644\\u0639\\u0632\\u0644\\u0629', 15)]"
       ]
      }
     ],
     "prompt_number": 166
    },
    {
     "cell_type": "code",
     "collapsed": false,
     "input": [
      "full_text_blob.sentences[0].string"
     ],
     "language": "python",
     "metadata": {},
     "outputs": [
      {
       "output_type": "pyout",
       "prompt_number": 144,
       "text": [
        "u'\\u0627\\u0644\\u0648\\u0633\\u0637 - \\u0645\\u062d\\u0631\\u0631 \\u0627\\u0644\\u0634\\u0626\\u0648\\u0646 \\u0627\\u0644\\u0645\\u062d\\u0644\\u064a\\u0629\\xa0 \\u0642\\u0627\\u0644 \\u0645\\u062f\\u064a\\u0631 \\u0645\\u0643\\u062a\\u0628 \\u0627\\u0644\\u0625\\u0639\\u0644\\u0627\\u0645 \\u0641\\u064a \\u0648\\u0632\\u0627\\u0631\\u0629 \\u0627\\u0644\\u062e\\u0627\\u0631\\u062c\\u064a\\u0629 \\u0627\\u0644\\u0623\\u0645\\u064a\\u0631\\u0643\\u064a\\u0629\\u060c \\u062c\\u064a\\u0641 \\u0631\\u0627\\u062a\\u0643\\u0647\\u060c \\u062e\\u0644\\u0627\\u0644 \\u0645\\u0624\\u062a\\u0645\\u0631 \\u0635\\u062d\\u0627\\u0641\\u064a \\u0641\\u064a \\u0648\\u0627\\u0634\\u0646\\u0637\\u0646 \\u0623\\u0645\\u0633 \\u0627\\u0644\\u0623\\u0648\\u0644 (\\u0627\\u0644\\u062b\\u0644\\u062b\\u0627\\u0621)\\u060c \\u0625\\u0646 \\xab\\u0627\\u0644\\u062e\\u0627\\u0631\\u062c\\u064a\\u0629 \\u0627\\u0644\\u0623\\u0645\\u064a\\u0631\\u0643\\u064a\\u0629 \\u0639\\u0644\\u0649 \\u0639\\u0644\\u0645 \\u0628\\u0627\\u0644\\u062a\\u0642\\u0627\\u0631\\u064a\\u0631 \\u0627\\u0644\\u062a\\u064a \\u062a\\u0641\\u064a\\u062f \\u0628\\u0623\\u0646 \\u0645\\u0648\\u0627\\u0637\\u0646\\u0627\\u064b \\u0623\\u0645\\u064a\\u0631\\u0643\\u064a\\u0627\\u064b \\u0645\\u062d\\u062a\\u062c\\u0632 \\u0641\\u064a \\u0627\\u0644\\u0628\\u062d\\u0631\\u064a\\u0646\\xbb.'"
       ]
      }
     ],
     "prompt_number": 144
    },
    {
     "cell_type": "code",
     "collapsed": false,
     "input": [
      "for w, c in country_result['Saudi Arabia']:\n",
      "    print goslate.Goslate().translate(w, 'en'), c"
     ],
     "language": "python",
     "metadata": {},
     "outputs": [
      {
       "output_type": "stream",
       "stream": "stdout",
       "text": [
        "Forty-seventh 10\n",
        "Seventh plenary"
       ]
      },
      {
       "output_type": "stream",
       "stream": "stdout",
       "text": [
        " 10\n",
        "Saudi"
       ]
      },
      {
       "output_type": "stream",
       "stream": "stdout",
       "text": [
        " 8\n",
        "Billion touch"
       ]
      },
      {
       "output_type": "stream",
       "stream": "stdout",
       "text": [
        " 8\n",
        "Arab Transport"
       ]
      },
      {
       "output_type": "stream",
       "stream": "stdout",
       "text": [
        " 7\n",
        "Air Transport"
       ]
      },
      {
       "output_type": "stream",
       "stream": "stdout",
       "text": [
        " 7\n",
        "General Assembly"
       ]
      },
      {
       "output_type": "stream",
       "stream": "stdout",
       "text": [
        " 7\n",
        "Contact in"
       ]
      },
      {
       "output_type": "stream",
       "stream": "stdout",
       "text": [
        " 6\n",
        "Arab Union"
       ]
      },
      {
       "output_type": "stream",
       "stream": "stdout",
       "text": [
        " 5\n",
        "Between Egypt"
       ]
      },
      {
       "output_type": "stream",
       "stream": "stdout",
       "text": [
        " 5\n",
        "Quarterly system"
       ]
      },
      {
       "output_type": "stream",
       "stream": "stdout",
       "text": [
        " 4\n",
        "Large Arabs"
       ]
      },
      {
       "output_type": "stream",
       "stream": "stdout",
       "text": [
        " 4\n",
        "Saudi Arabia"
       ]
      },
      {
       "output_type": "stream",
       "stream": "stdout",
       "text": [
        " 4\n",
        "Tension"
       ]
      },
      {
       "output_type": "stream",
       "stream": "stdout",
       "text": [
        " 4\n",
        "Saudi Arabia,"
       ]
      },
      {
       "output_type": "stream",
       "stream": "stdout",
       "text": [
        " 4\n",
        "Results Assembly"
       ]
      },
      {
       "output_type": "stream",
       "stream": "stdout",
       "text": [
        " 4\n",
        "Custodian of the Two"
       ]
      },
      {
       "output_type": "stream",
       "stream": "stdout",
       "text": [
        " 4\n",
        "Months"
       ]
      },
      {
       "output_type": "stream",
       "stream": "stdout",
       "text": [
        " 4\n",
        "Terrorist groups"
       ]
      },
      {
       "output_type": "stream",
       "stream": "stdout",
       "text": [
        " 3\n",
        "Birthday gala"
       ]
      },
      {
       "output_type": "stream",
       "stream": "stdout",
       "text": [
        " 3\n"
       ]
      }
     ],
     "prompt_number": 116
    },
    {
     "cell_type": "heading",
     "level": 2,
     "metadata": {},
     "source": [
      "Match the top freqs in the content"
     ]
    },
    {
     "cell_type": "code",
     "collapsed": false,
     "input": [
      "posts['Syria'][\"2014-11-19\"][3]['FullText'].split(' ')\n",
      "for country in posts:\n",
      "    for day in posts[country]:\n",
      "        terms = country_result[country]\n",
      "        for post in posts[country][day]:\n",
      "            caption = post['Caption']\n",
      "            fullText = post[\"FullText\"]\n",
      "            full_text_blob = TextBlob(fullText)\n",
      "            lead_sent = full_text_blob.sentences[0].string\n",
      "            for term in terms:\n",
      "                pattern = re.compile(term[0], re.U)\n",
      "                rs = pattern.findall(caption)\n",
      "                if len(rs) > 0:\n",
      "                    print rs, len(rs)\n",
      "                    sys.exit()\n",
      "                \n",
      "            \n",
      "        "
     ],
     "language": "python",
     "metadata": {},
     "outputs": [
      {
       "ename": "SystemExit",
       "evalue": "",
       "output_type": "pyerr",
       "traceback": [
        "An exception has occurred, use %tb to see the full traceback.\n",
        "\u001b[1;31mSystemExit\u001b[0m\n"
       ]
      },
      {
       "output_type": "stream",
       "stream": "stdout",
       "text": [
        "[u'\\u0641\\u064a \\u0627\\u0644\\u0628\\u062d\\u0631\\u064a\\u0646'] 1\n"
       ]
      },
      {
       "output_type": "stream",
       "stream": "stderr",
       "text": [
        "To exit: use 'exit', 'quit', or Ctrl-D."
       ]
      }
     ],
     "prompt_number": 141
    },
    {
     "cell_type": "code",
     "collapsed": false,
     "input": [
      "country_rule = {}\n",
      "for country in country_result:\n",
      "    rule = [u\"%s\" % w[0] for w in country_result[country]]\n",
      "    rule = u'|'.join(rule)\n",
      "    country_rule[country] = rule\n"
     ],
     "language": "python",
     "metadata": {},
     "outputs": [],
     "prompt_number": 158
    },
    {
     "cell_type": "code",
     "collapsed": false,
     "input": [
      "\n",
      "pattern = re.compile(country_rule['Egypt'], re.U)\n",
      "with open(\"/raid/tskatom/raw_arabia_inform/arabia-news-2014-12-08-23-03-29\") as df:\n",
      "    for line in df:\n",
      "        post = json.loads(line)\n",
      "        fullText = post[\"FullText\"]\n",
      "        matched = pattern.findall(fullText)\n",
      "        if len(matched) > 1:\n",
      "            print matched\n",
      "            sys.exit()"
     ],
     "language": "python",
     "metadata": {},
     "outputs": [
      {
       "ename": "SystemExit",
       "evalue": "",
       "output_type": "pyerr",
       "traceback": [
        "An exception has occurred, use %tb to see the full traceback.\n",
        "\u001b[1;31mSystemExit\u001b[0m\n"
       ]
      },
      {
       "output_type": "stream",
       "stream": "stdout",
       "text": [
        "[u'\\u0639\\u062f\\u062f \\u0645\\u0646', u'\\u0639\\u062f\\u062f \\u0645\\u0646']\n"
       ]
      },
      {
       "output_type": "stream",
       "stream": "stderr",
       "text": [
        "To exit: use 'exit', 'quit', or Ctrl-D."
       ]
      }
     ],
     "prompt_number": 159
    },
    {
     "cell_type": "code",
     "collapsed": false,
     "input": [
      "count_file = \"/raid/tskatom/seed_protest_document_count/arabia-news-2014-12-07-23-01-41\"\n",
      "gs = goslate.Goslate()\n",
      "with open(count_file) as cf:\n",
      "    data = json.load(cf)\n",
      "    for country in data:\n",
      "        print \"Country: %s ===\\n\" % country\n",
      "        for day in data[country]:\n",
      "            for title in data[country][day][\"titles\"]:\n",
      "                print gs.translate(title, 'en'), '\\n'"
     ],
     "language": "python",
     "metadata": {},
     "outputs": [
      {
       "output_type": "stream",
       "stream": "stdout",
       "text": [
        "Country: Bahrain ===\n",
        "\n",
        "Bahrain's king approves new cabinet reshuffle pajamas Post:Issued the king of Bahrain, Hamad bin Isa Al Khalifa, the day Saturday, December 6 / December 2014, a royal decree to appoint Crown Prince Salman bin Hamad Al Khalifa, First Deputy Prime Minister Khalifa bin Salman Al Khalifa, and the appointment of Mohammed bin Mubarak Al Khalifa, Ali bin Khalifa Al Khalifa, Jawad bin Salem broadband, Khalid bin Abdulla Al Khalifa, as Vice-President of the Council of Ministers."
       ]
      },
      {
       "output_type": "stream",
       "stream": "stdout",
       "text": [
        " \n",
        "\n",
        "Bahrain's king issued a royal decree to form a new government Manama zero 14 1436 e\r\n",
        "\r\n",
        "King Hamad bin Isa Al Khalifa of Bahrain issued a royal decree on the formation of the new government headed by Prince Khalifa bin Salman Al Khalifa."
       ]
      },
      {
       "output_type": "stream",
       "stream": "stdout",
       "text": [
        " \n",
        "\n",
        "Bahraini monarch issued a royal decree to form a new government, the Bahraini monarch issued a royal decree to form a new government\n",
        "\n",
        "\n",
        "Wrote: News Agencies\n",
        "9 minutes ago\n",
        "\n",
        "\n",
        " Print\n",
        " \n",
        "\n",
        "\n",
        "\n",
        "\n",
        "\n",
        "\n",
        "\n",
        "\n",
        "\n",
        " \n",
        "\n",
        "\n",
        " \n",
        "\n",
        "King of Bahrain\n",
        "\n",
        "Issued Bahraini King Hamad bin Isa Al Khalifa, today, a royal decree to form a new government headed by Prince Khalifa bin Salman Al Khalifa."
       ]
      },
      {
       "output_type": "stream",
       "stream": "stdout",
       "text": [
        " \n",
        "\n",
        "Bahrain's government .. 4 new faces and 3 of the Al Khalifa and Samira Rajab notable absentees Ahmad Masri / Anatolia: issued Bahraini King Hamad bin Isa Al Khalifa royal decree, on Saturday evening, the formation of the new government, saw the exit of three ministers from each Khalifh.ouhsp correspondent \" Anatolia \", the government has included four new faces, while the most prominent ministers deserted list"
       ]
      },
      {
       "output_type": "stream",
       "stream": "stdout",
       "text": [
        " \n",
        "\n",
        "Crown Prince of Bahrain, the UAE Foreign Minister discuss bilateral relations and the face of terrorism stressed First Deputy Chairman of the Bahraini Prime Minister Prince Salman bin Hamad Al Khalifa, Crown Prince, to confront terrorism and the statement of the true face of terrorism and limbs which hide behind Altheovascheh groups in light of regional and international changes rapidly, which requires everyone the need to workJoined together to coordinate joint efforts in order to achieve stability and peace to the region.He praised Al Khalifa, when he met today with Sheikh Abdullah bin Zayed Al Nahyan, Minister of Foreign Affairs of the UAE, including links between the Kingdom of Bahrain and the United Arab Emirates sister fraternal and historical her continuous communication between the two countries and the two brotherly relations, stressing the role of the two brotherly countries is important about everything that enhances the language and understanding and to devote reasons of security and stability in the dialogueAlmntqh.oreh Al Khalifa, in the presence and participation of UAE Foreign Minister in the work of a forum Manama Dialogue presenting Prince with the most important topics and issues posed by the Manama Dialogue and touched his with His Highness Sheikh Abdullah Bin Zayed to the international coalition's efforts to stop the expansion of terrorism and extremism and drain its resources.Has informed the Crown Prince of Bahrain, UAE Foreign Minister to convey his greetings to the leadership of the United Arab Emirates and Hon'ble wishes to state sister all the progress and prosperity.For his part, the UAE Foreign Minister expressed his appreciation for his Bahraini Crown Prince of continuous interest in supporting cooperation and coordination with the national frameworks and praised posed by the Manama Dialogue forum topics in the field of security and the nature of the cooperation needed to bring more support to international peace and security."
       ]
      },
      {
       "output_type": "stream",
       "stream": "stdout",
       "text": [
        " \n",
        "\n",
        "Bahrain's king issued a decree forming a new government-Alia Mohammadi wrote: King of Bahrain issued, Hamad bin Isa Al Khalifa, on Saturday, a royal decree to form a government, as suggested last week, the Prime Minister-designate, Khalifa bin Salman Al Khalifa."
       ]
      },
      {
       "output_type": "stream",
       "stream": "stdout",
       "text": [
        " \n",
        "\n",
        "Agreement allowing Britain to open a new military base in Bahrain 21:29 - 6-12-2014 Saturday\n",
        "\n",
        "\n",
        "\r\n",
        "  \r\n",
        " \r\n",
        "\r\n",
        "\r\n",
        "\r\n",
        "\r\n",
        "\r\n",
        "\r\n",
        "\r\n",
        "\r\n",
        "\r\n",
        "  Agreement allowing Britain to open a new military base in Bahrain\r\n",
        "        \r\n",
        "        \r\n",
        "        Agreement allowing Britain to open a new military base in Bahrain, \"the prospects for an Egyptian\":Agreement allowing Britain to open a new military base in Bahrain\r\n",
        "    The British Foreign Office announced that the London and Manama signed an agreement allowing Britain to build a new military base in Bahrain in order to enhance cooperation in the face of threats in the region.The Associated Press quoted the French by the British Foreign Ministry as saying in a statement: \"The agreement was signed during the annual meeting of the Manama Dialogue in Bahrain's capital will allow the improvement of existing facilities at Salman Port where four anchored warships British mine action permanently.\"According to the statement, \"Bahraini Foreign Minister Sheikh Khaled bin Ahmed al-Khalifa said that this arrangement is a further step on the road to cooperation between Bahrain and the United Kingdom.\"For his part, British Defense Minister Michael Fallon emphasized that \"this new rule is a constant expansion of the Royal Navy and will allow Britain to send more ships to enhance the stability of the Gulf,\" he said, adding: \"Sntmrkz again in the Gulf for a long time.\"Operates Al Khalifa authorities pull itself out of trouble mounting popular protests demanding political, economic and social reforms, and by virtue of a constitutional in Bahrain, which was launched on 14 February 2011, where pursued a government Al Khalifa, the policy of repression in the face of these protests in various forms in the conclusion of agreements with a number of countries, including the establishment of rules to support the military regime in this country and keep it."
       ]
      },
      {
       "output_type": "stream",
       "stream": "stdout",
       "text": [
        " \n",
        "\n",
        "Bahrain's king issued a royal decree to form a new government, King Hamad bin Isa Al Khalifa of Bahrain issued a royal decree on the formation of the new government headed by Prince Khalifa bin Salman Al Khalifa.He spent the decree carried by the Bahrain News Agency on the appointment of Crown Prince Salman bin Hamad Al Khalifa, First Deputy Prime Minister Sheikh Mohammed bin Mubarak Al Khalifa and Sheikh Ali bin Khalifa Al Khalifa and Jawad bin Salem broadband and Sheikh Khalid bin Abdullah Al Khalifa, Vice-President of the Council of Ministers.Decree appointing Mohammed Al Mutawa, Minister for Follow Up Affairs and Lt. General Sheikh Rashid bin Abdullah Al Khalifa, Minister of the Interior, and Sheikh Khalid bin Ahmed Al Khalifa, Minister of Foreign Affairs Sheikh Ahmed bin Mohammed Al Khalifa, Minister of Finance and Dr. Majid Al-Naimi, Minister of Education and Dr. Abdul Hussain Mirza, Minister of Energy also spent.Has been appointed Sheikh Khalid bin Ali Al Khalifa, Minister of Justice and Islamic Affairs, Endowments, Essam Khalaf, Minister of Works and Municipalities Affairs and Urban Planning and beautiful Humaydan Minister of Labour and Kamal bin Ahmed, Minister of Transportation and Communications and the name of the Khmer and the Minister of Housing.Was appointed Ghanem Albuainain Affairs Consultative Council and Chamber of Representatives and endorsed Shihabi Minister of Health and Maj. Gen. Joseph Jalahmah minister for defense and super good and Minister of Social Development and Zayed Al Zayani and Minister of Industry, Trade and Isa Al Hammadi, minister for Media Affairs."
       ]
      },
      {
       "output_type": "stream",
       "stream": "stdout",
       "text": [
        " \n",
        "\n",
        "Prime Minister of Bahrain: coordination is essential to combat terrorism Emirates-WAM stressed the Bahraini Prime Minister Prince Khalifa bin Salman Al Khalifa, the importance of coordination between the Arab countries and cooperation among them in the security support and stabilize the region and the fight against terrorism in all its forms and manifestations, especially in light of the challenges witnessed by countries in the region."
       ]
      },
      {
       "output_type": "stream",
       "stream": "stdout",
       "text": [
        " \n",
        "\n",
        "Bahrain's king issued a royal decree to form a new government in December\n",
        "                \n",
        "                \n",
        "    6\n",
        "    \n",
        "                    \n",
        "             \n",
        "                    \n",
        "                                                    \n",
        "                                \n",
        "                                    \n",
        "                                \n",
        "                            \n",
        "                                                             \n",
        "                    \n",
        "                    \n",
        "                        \n",
        "                            \n",
        "                                \n",
        "                                    \n",
        "                                    \n",
        "                                \n",
        "                            \n",
        "                            \n",
        "                                 /King Hamad bin Isa Al Khalifa of Bahrain issued a royal decree on the formation of the new government headed by Prince Khalifa bin Salman Al Khalifa."
       ]
      },
      {
       "output_type": "stream",
       "stream": "stdout",
       "text": [
        " \n",
        "\n",
        "Crown and Nasser bin Hamad crowning champions triathlon Sunday, December 7, 2014Confirmed the Crown Prince and Deputy Supreme Commander of the First Deputy Prime Minister and His Royal Highness Prince Salman bin Hamad Al Khalifa to organize competitions to challenge Bahrain triathlon was a continuation of the interest in the King of the country, His Majesty King parent Hamad bin Isa Al Khalifa, and guidance support Bahraini youth in various fields to get to the desired successes that contribute to enhancing the reputation of the KingdomBahrain and its capabilities in hosting and organizing various tournaments and competitions youth and sports."
       ]
      },
      {
       "output_type": "stream",
       "stream": "stdout",
       "text": [
        " \n",
        "\n",
        "Prime Minister: Security must prevail and stop interfering in the affairs of states Sunday, December 7, 2014\n",
        "\n",
        "\n",
        "MANAMA - US: Prime Minister His Royal Highness Prince Khalifa bin Salman Al Khalifa, that \"Bahrain has girl with Britain with a strong foundation relations and we hope to build on it continues through fruitful cooperation, we were together and we will be together friends of ours common interests and relationships.\"His Highness praised the need to fill the legislative and technical gaps that exploit the force of terrorism which, security is must prevail and interference in the internal affairs of States must be stopped; it helps to enter the terrorism on the way, and the cooperation Fareh by everyone and lend itself to him, especially if contributes to the strengthening of security and stability .This came during a meeting with His Royal Highness the Prime Minister for a number of members of the House of Lords and House of Commons British Council; on the occasion of their participation in the forum \"Manama Dialogue.\""
       ]
      },
      {
       "output_type": "stream",
       "stream": "stdout",
       "text": [
        " \n",
        "\n",
        "Prime Minister: the development of the Bahraini-Russian relations and to increase the prospects of cooperation Sunday, December 7, 2014\n",
        "\n",
        "\n",
        "MANAMA - US: Prime Minister His Royal Highness Prince Khalifa bin Salman Al Khalifa - at his reception of the Russian envoy - the need to work on the development of the Bahraini-Russian relations by increasing the prospects for political and economic cooperation between the Kingdom of Bahrain and the Republic of the Russian Federation friendly.He expressed his aspiration for Bahrain to increase the exchange of visits between officials of the two countries and the development aspects of coordination in international forums, and enhanced by Russian cooperation established the Gulf, and praised his Russian positions in support of the Kingdom of Bahrain.The two sides stressed the need for cooperation with the region's issues is based on fairness and justice, particularly the Palestinian issue, and refused to interfere in the internal affairs of States; because such interventions have undermined stability in the region and allowed the field to be hotbeds of terrorism there.His Royal Highness the Prime Minister had received his palace in Riffa yesterday, the Special Representative of the Foreign Minister of the Federal Republic of Russia for the Middle East and North Africa Sergei Farshen; on the occasion of his participation in the \"Manama Dialogue\".During the meeting, His Royal Highness the Prime Minister stressed the advanced level reached by the relations between the Kingdom of Bahrain and the Republic of the Russian Federation, stressing that the Prince of the Kingdom of Bahrain looks forward to further cooperation and coordination with the Federal Republic of Russia-friendly at all levels."
       ]
      },
      {
       "output_type": "stream",
       "stream": "stdout",
       "text": [
        " \n",
        "\n",
        "Prime Minister: the need for Arab coordination to combat terrorism in all its forms Sunday, December 7, 2014\n",
        "\n",
        "\n",
        "MANAMA - US: Prime Minister HRH Prince Khalifa bin Salman Al Khalifa, Foreign Minister of the Arab Republic of Egypt sister Sameh Shoukry.During the meeting, His Royal Highness the Prime Minister stressed the importance of coordination between the Arab countries and cooperation among them in the security support and stabilize the region, and the fight against terrorism in all its forms and manifestations, especially in light of the challenges taking place in the region, which underlines the need to show the fixed positions that preserve the integrity of States of terrorism, with Egyptian Foreign Minister stressed that the security of the Gulf is not partIntegral part of the Egyptian national security and that Egypt rejects all forms of interference to destabilize the Gulf Cooperation Council."
       ]
      },
      {
       "output_type": "stream",
       "stream": "stdout",
       "text": [
        " \n",
        "\n",
        "Prime Minister: It's the economy and the development time and enough of saturated engaging in politics Sunday, December 7, 2014\n",
        "\n",
        "\n",
        "MANAMA - US: Prime Minister HRH Prince Khalifa bin Salman Al Khalifa, director of the International Peace Institute Terje Roed-Larsen.During the meeting, His Royal Highness the Prime Minister stressed the importance of intensifying the international community's efforts to bring peace; for his role in the achievement of development and the need for greater action and coordination to support the peace efforts in the region and preventing the peace affected, Vikvaha what passed from the bitter experiences of instability and witnessed from the vessels of the challenges affecting the peace process in the region, stressing that his time has comeDevelopment, economy and engaging Enough saturated Balseash.oahad director of the International Institute of Peace, including enjoyed by the Kingdom of Bahrain's openness and coexistence and freedom under a democratic atmosphere even Bahrain has become a model of stability when compared to the regional their environment.On this occasion, gave the director of the International Institute of Peace, His Royal Highness the Prime Minister of the book \"The search for peace in the Arab-Israeli conflict.\""
       ]
      },
      {
       "output_type": "stream",
       "stream": "stdout",
       "text": [
        " \n",
        "\n",
        "Prime Minister: influential role of Kuwait in regional and global security Sunday, December 7, 2014\n",
        "\n",
        "\n",
        "Manama - us:Prime Minister HRH Prince Khalifa bin Salman Al Khalifa at Riffa Palace yesterday morning, Deputy Army Chief of Staff in Kuwait sister team of Sheikh Abdullah Nawaf Al-Ahmad Al-Sabah and the head of the National Security State of Kuwait Sheikh Thamer Ali Sabah Al-Salem Al-Sabah; on the occasion of their visit to the country to participate in the Forum \"Manama Dialogue\".During the meeting, His Royal Highness the Prime Minister emphasized the depth and durability of the bilateral relations between the Kingdom of Bahrain and the State of Kuwait, noting his course of these relations, which always takes an upward path reflected on the Advanced Layout witnessed cooperation.His Royal Highness the Prime Minister stressed the importance of forums that are looking regional and international security as an umbrella to unite the ideas and visions for the formulation and one went to serve in the end to global security, noting his participation of the State of Kuwait in the forum Manama Dialogue and the importance of the role of Kuwait influential in regional and global security."
       ]
      },
      {
       "output_type": "stream",
       "stream": "stdout",
       "text": [
        " \n",
        "\n",
        "Crown:\u201cManama Dialogue \"It is the most important security forums Gulf Sunday, December 7, 2014Description Crown Prince and Deputy Supreme Commander of the First Deputy Prime Minister and His Royal Highness Prince Salman bin Hamad Al Khalifa, the Bahraini-British relations as historic and of relations after the strategically important and influential, and share together in strengthening efforts to meet the various security challenges in the region, the Middle East and the reduction of tensions and conflicts that hinder the development paths."
       ]
      },
      {
       "output_type": "stream",
       "stream": "stdout",
       "text": [
        " \n",
        "\n",
        "Prime Minister receives Director of the International Institute of Peace HRH Prince Khalifa bin Salman Al Khalifa, Prime Minister, Terje Roed-Larsen Director of the International Institute of Peace."
       ]
      },
      {
       "output_type": "stream",
       "stream": "stdout",
       "text": [
        " \n",
        "\n",
        "Security must prevail and interference in the internal affairs of States must be stopped, His Royal Highness Prince Khalifa bin Salman Al Khalifa, Prime Minister stressed that Bahrain has a girl with Britain with a strong foundation relations, and we hope to build on it continues through fruitful cooperation, we were together and we will stay together Friends of our common interests and relationships."
       ]
      },
      {
       "output_type": "stream",
       "stream": "stdout",
       "text": [
        " \n",
        "\n",
        "Prime minister:Increase political and economic cooperation between Bahrain and Russia, His Royal Highness Prince Khalifa bin Salman Al Khalifa, the Prime Minister on the need to work on the development of the Bahraini-Russian relations by increasing the prospects for political and economic cooperation between the Kingdom of Bahrain and the Republic of the Russian Federation friendly, expressing his aspiration Bahrain to increase the exchange of visits between officials of the two countriesAnd development aspects of coordination in international forums, and enhanced Gulf Russian cooperation established, and praised his Russian support for Bahrain's positions, as the two sides stressed the need for cooperation with the region's issues is based on fairness and justice, particularly the Palestinian issue, and refused to interfere in the internal affairs of States because such These interventions have undermined stability in the region and allowedArea to be hotbeds of terrorism there."
       ]
      },
      {
       "output_type": "stream",
       "stream": "stdout",
       "text": [
        " \n",
        "\n",
        "Prime Minister Shukri reviews the historical relations with HRH Prince Khalifa bin Salman Al Khalifa, Prime Minister distinguished, Sameh Shoukry Foreign Minister of the Arab Republic of Egypt sister."
       ]
      },
      {
       "output_type": "stream",
       "stream": "stdout",
       "text": [
        " \n",
        "\n",
        "Prime Minister commends relations with Kuwait, His Royal Highness Prince Khalifa bin Salman Al Khalifa, Prime Minister received at Riffa Palace yesterday the team Sheikh Abdullah Nawaf Al-Ahmad Al-Sabah Deputy Chief of Army Staff State of Kuwait, Sheikh Thamer Ali Sabah Al Salem Al Sabah, head of the National Security State of Kuwait, on the occasion of their visit to the country to participate in the forum \u00abdialogueManama. \u00bb"
       ]
      },
      {
       "output_type": "stream",
       "stream": "stdout",
       "text": [
        " \n",
        "\n",
        "Crown:Intensify efforts to fight terrorism and extremism praised His Royal Highness Prince Salman bin Hamad Al Khalifa, Crown Prince and Deputy Supreme Commander of the First Deputy Prime Minister and deeply what connects the Gulf Cooperation Council (GCC) of fraternal relations solid body continuous communication between the leaders of the GCC countries and their peoples, which contributed to the match attitudes towards various issues of regional and international topicsIn the framework of the Cooperation Council for the Arab States of the Gulf system.He expressed His Royal Highness Crown Prince and Deputy Supreme Commander of the First Deputy Chairman of the Council of Ministers at a meeting Prince yesterday in the presence of his son, His Highness Shaikh Isa Bin Selman bin Hamad Al Khalifa and Sheikh Khalid bin Ahmed bin Mohammed Al Khalifa, the heads of delegations of the Gulf Cooperation Council (GCC) and Dr. Abdul Latif Al Zayani, Secretary-General the Gulf Cooperation Council (GCC) on the occasion of their participation in the work of forumManama Dialogue welcomed the level of participation of brotherly and friendly countries in Manama Dialogue Forum in 2014, which reflected the growing importance of this forum and seriousness in addressing the issues of the region and the Middle East, which this year celebrates the tenth anniversary of its inception in exceptional circumstances facing the region."
       ]
      },
      {
       "output_type": "stream",
       "stream": "stdout",
       "text": [
        " \n",
        "\n",
        "Coordinate joint efforts in order to achieve stability and peace of His Royal Highness Prince Salman bin Hamad Al Khalifa, Crown Prince and Deputy Supreme Commander of the First Deputy Prime Minister stressed that the face of terrorism and the statement of the true face of terrorism and limbs which hide behind Altheovascheh groups under regional and international variables accelerated that call from everyone need to workJoined together to coordinate joint efforts in order to achieve stability and peace to the region.He praised the Crown upon meeting yesterday in the presence of his son, His Highness Shaikh Isa bin Salman bin Hamad Al Khalifa and Sheikh Khalid bin Ahmed bin Mohammed Al Khalifa, His Highness Sheikh Abdullah Bin Zayed Al Nahyan, Foreign Minister of the United Arab Emirates on the occasion of his participation in the forum Manama Dialogue, including linking the Kingdom of Bahrain The UAE is one of fraternal and historical her continuous communication between the two countries and the two peoples relationshipsBrothers."
       ]
      },
      {
       "output_type": "stream",
       "stream": "stdout",
       "text": [
        " \n",
        "\n",
        "Crown Prince praises the growing cooperation with Singapore relations, His Royal Highness Prince Salman bin Hamad Al Khalifa, Crown Prince and Deputy Supreme Commander of the First Deputy Prime Minister stressed that the fight against terrorism and extremism requires identification of a clear definition of an internationally agreed to what Altheovascheh groups and are based upon factors provide them with the reasons proliferation and expansion.Upon meeting his in the presence of his son, His Highness Shaikh Isa bin Salman bin Hamad Al Khalifa, with Dr. Mohamed Maliki Bin Osman, Minister of State for Defence and National Development of the Republic of Singapore on the occasion of his visit to the country to participate in the forum \u00ab2014 Manama Dialogue\u00bb, Prince said he hoped to be a growing international cooperation and coordination consistent with the sensitivity of this file, which affects everyone."
       ]
      },
      {
       "output_type": "stream",
       "stream": "stdout",
       "text": [
        " \n",
        "\n",
        "Crown Prince praises the cooperation of institutions that supply the military preparedness of Bahrain praised His Royal Highness Prince Salman bin Hamad Al Khalifa, Crown Prince and Deputy Supreme Commander of the First Deputy Chairman of the Council of Ministers, including flows into the military and defense readiness of the Kingdom of Bahrain of communication and cooperation with international institutions working in the field of equipment and military equipment, including Lockheed Martin Corp.American leader in this field.This came during a meeting with His Highness the presence of his son, His Highness Shaikh Isa bin Salman bin Hamad Al Khalifa, with Marilyn Hewson, Chairman and CEO of Lockheed Martin as part of the Manama Dialogue X forum, where he welcomed his participation in this security defensive Forum vital strategic dimensions that have outstanding significance for Mnin these areas involved in policingAnd stability at the level Ataoahadt Marilyn Hewson level of preparation and organization provided by the Kingdom of Bahrain and the facilities and support to make it a success over these years."
       ]
      },
      {
       "output_type": "stream",
       "stream": "stdout",
       "text": [
        " \n",
        "\n",
        "Bahraini-British relations and historical dimension strategic His Royal Highness Prince Salman bin Hamad Al Khalifa, Crown Description Prince and Deputy Supreme Commander of the First Deputy Prime Minister of the Bahraini-British relations as historic and of relations after the strategically important and influential and share together in strengthening efforts to meet the various security challenges in the region and the Middle EastAnd the reduction of tensions and conflicts that hinder the development paths."
       ]
      },
      {
       "output_type": "stream",
       "stream": "stdout",
       "text": [
        " \n",
        "\n",
        "We need a greater understanding of the roles and motives of regional and international countries of His Majesty King Hamad bin Isa Al Khalifa, in Sakhir yesterday Palace received the presence of His Royal Highness Prince Salman bin Hamad Al Khalifa, Crown Prince and Deputy Supreme Commander of the First Deputy Prime Minister and heads of delegations participating in the Manama Dialogue in its tenth session organized by the International Institute for Strategic StudiesIn collaboration with the Ministry of Foreign Affairs of the Kingdom of Bahrain, which began its work in the UK yesterday evening."
       ]
      },
      {
       "output_type": "stream",
       "stream": "stdout",
       "text": [
        " \n",
        "\n",
        "Crown Prince and Nasser bin Hamad crowning Champions Challenge Bahrain Trajthelon His Royal Highness Prince Salman bin Hamad Al Khalifa, Crown confirmed Prince and Deputy Supreme Commander of the First Deputy Prime Minister save God to organize competitions to challenge Bahrain triathlon was a continuation of the interest of His Majesty King parent Hamad bin Isa Al Khalifa, King of Bahrain may God protect him and guidanceSupport Bahraini youth in various fields to get to the desired successes that contribute to enhancing the reputation of the Kingdom of Bahrain and its capabilities in hosting and organizing various tournaments and competitions youth and sports."
       ]
      },
      {
       "output_type": "stream",
       "stream": "stdout",
       "text": [
        " \n",
        "\n",
        "Summit of Asian Arab business partnership in Bahrain starting December 9 announced a summit of Asian Arab business partnership for the accession of the State Bank of India (State Bank of India) to the list of participants in their work which will be held from 9 to 12 December in the Kingdom of Bahrain under the patronage of the Minister of Industry and Commerce Dr. Hassan Fakhro and in collaboration with the Confederation of Indian Industries (CII), under the slogan \u00abreshape regional markets\u00bb.Chief Executive Officer of the State Bank of India Das Sosem confirmed that the Bank's participation in the summit of Asian Arab business partnership provides an unprecedented opportunity for the Bank to increase the bonding between businessmen and investors Arabs and Asians, and said that the summit completely check the strategic objectives of the Bank to explore the nascent opportunities in trade sectors, as well as requirements Banking on cooperationIn the industrial field between the Republic of India and the Gulf Cooperation Council (GCC) Arabh.oaarb Sosem delighted to actively participate in the Arab summit of Asian business partnership, and revealed that the Indian State Bank, which has a branch in Bahrain will also participate in the Bahrain Pavilion at the exhibition accompanying the summit.For her part, President of the Arab summit of Asian business partnership Sheikha Noora girl Isa bin Salman Al Khalifa:\u00abThe presence of State Bank of India in the list of participants in the summit would undoubtedly contribute effectively to strengthen relations between the investors and traders in the markets of India and the Arabian Gulf, and stressed the need for it in the promotion of the summit position as a platform to launch promising projects and partnerships commercial cross-border and fertile ground to exchange information on funding programs \u00bb.The Sheikha Noora girl Isa bin Salman Al Khalifa to the Arab summit of Asian business partnership is also suitable to celebrate the promotion of relations between the Arab world.As executive director of the Summit Business Partnership Asian Arabic-Roy Matthew explained that the summit is particularly focused on the exploration of emerging business opportunities and existing partnerships and building work on a large scale across the Arab region and Asia to invest in these opportunities, and said:\u00abSummit goal to create opportunities for regional companies to exchange ideas and establish business partnerships fruitful cross-border throughout the Arab and Asian region.\u00bbThis aims summit of Asian Arab business partnership to explore investment opportunities in both the homeland and the Arab Asia and building business partnerships cross-border investment those opportunities on a larger scale, and focus the summit of its work on investment opportunities in key sectors, especially the health care sector, as well as information technology and communications, tourism, and tourismTherapeutic, consumer goods, real estate and others, is expected to attract participants to the event from more than 12 countries, including ministerial delegations from Sudan and Bangladesh.Arab Summit Business Partnership-Asian and confirms that it will be a platform exclusive Arab and Asian countries, but business leaders and companies to establish effective partnerships across borders, and the summit an opportunity to celebrate India, which is one of the oldest countries in the field of trade partnership with the countries of the region, and will provide high-level delegation on his head Confederation of Indian Industry Business and delegates attendingConference from across the Arab region, the Asian investment opportunities and promising in the public and private sectors of the Republic of India.It is noteworthy that it is held on the sidelines of a summit of Arab business partnership-Asian exhibition two-day and allows exhibitors including the definition of their products and services in order to allow their businesses and visitors to the exhibition opportunities to get acquainted and to benefit from the strong economic breakthrough in the Arab and Asian region, and to increase their share of the market through a partnership with delegations visiting companies."
       ]
      },
      {
       "output_type": "stream",
       "stream": "stdout",
       "text": [
        " \n",
        "\n",
        "King:Broad dialogue is the most effective way to enhance security and maintain stability threats increasingly complex evolution of technology and the escalation of the role of the authorities is Aovernmahmaaljh issues has become an urgent matter requires real engagement and Mstnarahawwar Manama towards a better mutual understanding of regional security issues and respond to Hakd His Majesty King Hamad bin Isa Al Khalifa, King of Bahrain toBahrain's hosting of the meetings of the Manama Dialogue Over the past decade, comes out of our conviction that the extensive dialogue is the most effective way to enhance security and maintain stability in the region, and expressed his aspiration for many years to come, most successful in strengthening dialogue and discussions among all partners in the regional interest.His Majesty said, during a meeting at the Sakhir Palace yesterday in the presence of His Royal Highness Prince Salman bin Hamad Al Khalifa, Crown Prince and Deputy Supreme Commander of the First Deputy Prime Minister and heads of delegations participating in the Manama Dialogue, said that \u00abthreats in the region evolve and become increasingly complex evolution of technology and the escalation of the role of actors non-governmental organizations, while still outstanding issues hanging overThe Gulf region and the Middle East, what makes us the largest ever to understand the roles and interests and motivations of both regional and international countries need \u00bb."
       ]
      },
      {
       "output_type": "stream",
       "stream": "stdout",
       "text": [
        " \n",
        "\n",
        "Crown: the fight against terrorism requires a definition of what constitutes Altheovascheh groups of His Royal Highness Prince Salman bin Hamad Al Khalifa, Crown Prince and Deputy Supreme Commander of the First Deputy Prime Minister stressed that the fight against terrorism and extremism requires identifying a clear definition of an internationally agreed to what Altheovascheh groups and are based upon the factors provide them with the reasons for non-proliferation and expansion.He said His Royal Highness Crown Prince and Deputy Supreme Commander of the First Deputy Prime Minister, at a meeting with his son in the presence of His Highness Shaikh Isa bin Salman bin Hamad Al Khalifa, Minister of State for Defence and National Development of the Republic of Singapore d.Mohammed Othman owners occasion of his visit to the country to participate in the forum \u00abManama Dialogue 2014\u00bb, said he hoped to be a growing international cooperation and coordination consistent with the sensitivity of this file, which affects everyone.He commended carefully Singapore to participate in the forum Manama Dialogue, which this year celebrates the tenth Pencchth, stressing the outstanding role played by the friendly state in support of the international cooperation and efforts to save the stability and security of the region.He praised his growing friendship and cooperation relations between the Kingdom of Bahrain and the Republic of Singapore, which reflected on several tracks in light of the desire of the two countries and looked forward to greater opportunities for bilateral cooperation."
       ]
      },
      {
       "output_type": "stream",
       "stream": "stdout",
       "text": [
        " \n",
        "\n",
        "Crown:Cooperation with military equipment institutions flows into the readiness of Bahrain's defense of His Royal Highness Prince Salman bin Hamad Al Khalifa, Crown Prince and Deputy Supreme Commander of the First Deputy Prime Minister said that communication and cooperation of the Kingdom of Bahrain with international institutions working in the field of equipment and military equipment, including Lockheed Martin Corp. of America leader in this field, flows intoMilitary and defense readiness for Bahrain.He welcomed His Royal Highness Crown Prince and Deputy Supreme Commander of the First Deputy Prime Minister, during a meeting in the presence of his son, His Highness Shaikh Isa bin Salman bin Hamad Al Khalifa, with the Chairman of the Board and CEO of Lockheed Martin Marilyn Hewson in the framework of the forum Manama Dialogue X, participation in this Forum defensive security vital strategic dimensions that are importantProminent for those concerned in these areas, which means to maintain security and stability at the level Ata.mn part, Marilyn Hewson praised the level of preparation and organization of the Forum on the Manama Dialogue and Bahrain provided facilities and support to make it a success over these years."
       ]
      },
      {
       "output_type": "stream",
       "stream": "stdout",
       "text": [
        " \n",
        "\n",
        "Khalid bin Hamad: insisting we were able to win praised His Highness Sheikh Khalid bin Hamad Al Khalifa, the support of His Royal Highness Prince Salman bin Hamad Al Khalifa for the tournament and the keenness of His Highness the crowning winners advanced centers where praising at the same time, the result achieved by His Highness Sheikh Nasser bin Hamad Al Khalifa in the race as one of the outstanding results achieved by his foreign posts.His Highness Sheikh Khalid bin Hamad Al Khalifa was delighted to finish the race and achieve Alentjah outstanding which emphasizes level upward of technical and physical point of pointing out that the tournament was a strong and distinct from private technically with an elite group of world champions who influenced the race in swimming, cycling and running praising Balentjah that achieved by His Highness Sheikh Nasser bin Hamad Al Khalifa, whichWere distinct.His Highness Sheikh Khalid bin Hamad Al Khalifa added that the challenge of Bahrain Championship was very strong technically due to the presence of many fitness high-owners and who enriched the contest participants stressing his that achieved for the time the tournament is a very distinct in the light of the figures that have been achieved in the race, pointing out that the competition in the tournament were present in force and more importantly, the teamBahraini able to reach the goals set by before participating in the tournament which confirm the presence of Bahrain and achieve the greatest benefit from metamaterials to participate in this great global gathering.His Highness Sheikh Khalid bin Hamad Al Khalifa, expressed optimism capitalizing on the team to participate in this tournament and motivation moral to continue his career in the upcoming competitions in the hope of achieving more Mutaimzh results, stressing the importance of Bahrain's presence strong in the tournament, which has significant implications for the interaction of the Bahraini teams with various sports competitions which will be held in countries around the world.His Highness Sheikh Khalid bin Hamad Al Khalifa said that Bahrain's participation in the tournament and the results achieved by the team members were very distinct in all respects private numbers achieved by the team."
       ]
      },
      {
       "output_type": "stream",
       "stream": "stdout",
       "text": [
        " \n",
        "\n",
        "Bahrain's king issued a royal decree to form a new government, King Hamad bin Isa Al Khalifa of Bahrain issued a royal decree on Saturday to form a new government headed by Prince Khalifa bin Salman Al Khalifa."
       ]
      },
      {
       "output_type": "stream",
       "stream": "stdout",
       "text": [
        " \n",
        "\n",
        "Farmers Market starting in the middle of the third edition of a large turnout of the pioneers Sunday, December 7, 2014\n",
        "\n",
        "\n",
        "Manama - us:Opened agent of Agriculture and Marine Resources, Sheikh Khalifa bin Isa Al Khalifa, yesterday morning, the first day of the Bahraini farmers market in the third version of the presence of the Secretary General of the National Initiative for the development of the agricultural sector Shaikha Maram girl Isa Al Khalifa, which will be held garden Badi amid a large turnout of the pioneers and visitors ."
       ]
      },
      {
       "output_type": "stream",
       "stream": "stdout",
       "text": [
        " \n",
        "\n",
        "\"Marine Club\" embraces the biggest celebration on the occasion of national holidays Sunday, December 7, 2014\n",
        "\n",
        "\n",
        "Capital Governorate:Evaluate each of the Capital Governorate and the Secretariat of the capital for the second year in a row to celebrate the occasion of the celebration of the Kingdom of Bahrain National Boaaadha, on December 16 to 17 to commemorate the creation of the modern Bahraini state in the era of the founder Ahmed Al Fateh entity Arabic Islamic year 1783, the anniversary of 43 for admission to the United Nations as a full member and the 15th anniversary of His Majesty the King of the reins of government, under theThe slogan \"Home Christmas brings us together\", where he is expected to be the largest on the level of the country celebrate this occasion because it involves innovative vertebrae and pleasant surprises unique, which is scheduled to take place on Saturday December 13, 2014 at the Marina Club coast of Manama, at exactly the fourth pm until eight in the evening.On this occasion, the governor of the capital, President of the Supreme Committee confirmed to celebrate Sheikh Hisham bin Abdulrahman Al Khalifa big efforts made by the Capital Governorate and the Secretariat of the capital; for the establishment of this great celebration, noting that the celebration comes the desire of both sides to bring joy and happiness to the hearts of the people of the capital, Bahrain and public visitors UK participants in Ctfl.\"It is keen to maintain through established for this celebration to include community partnership frameworks that come stems from deepening the sense of patriotism among citizens and residents, including the benefit a lot to this country and its people,\" Msttrda saying \"reflect this occasion what Tekna hearts all of pulse honest towards the beloved country and leadership that will continue to be the symbol of the citizen to meet and honesty and love. \"He expressed his sincere thanks and appreciation to the Director General of the Manama Municipality Chairman of the Executive Committee, Sheikh Mohammed bin Ahmed Al Khalifa, peer-large endeavors made towards the establishment of the ceremony and the extent of effective cooperation he has shown throughout the special celebration of the coordination meetings period, indicating that the close relationship linking the capital to the province and the secretariat of the capital enabled the co-organizing this celebration ofSet to be the largest in the country's National Day. \"For his part, Director General of the Manama Municipality Chairman of the Executive Committee confirmed the municipal relentless keen to establish this annual event with a capital of the province for the second time in a row in terms of cooperation and coordination and the role of the partnership between government institutions serve the people of the citizens and residents, and the translation of the efforts of the Secretariat in order to unify common frameworks while maintaining theAll levels, and the belief of the municipality of the need to unify the visions and innovative ideas as they have a positive impact on the ground.And I said, \"the Supreme Committee, consisting of the province and the capital Manama Municipality held a number of successive meetings over the past two months, the regulatory issues for the celebration was discussed, as was the outline for the development of the distribution of work on the main committees to participate in the ceremony roles:Security, services, media and honors, overseeing the events, and that confirmation from both sides on the level of coordination and follow-up committee, which aspires to be implemented during the ceremony. \"And sentence paragraphs innovative and unique, which is expected to be the largest on the level of the country's celebration of the National Day, which the Supreme Committee is looking to reach, Sheikh Mohammed bin Ahmed inclusion added concert surprises many precious and awards dedicated to the fans present, the most important drag on the car in a gesture is the first of its kind in the country's National Day celebrations, in addition to a variety of paragraphsInclude: operetta and musical theater, folk-prone band, the music band of the Interior Ministry, fireworks, dedicated to the public and many of the pleasant surprises for the fans attending the tent. \""
       ]
      },
      {
       "output_type": "stream",
       "stream": "stdout",
       "text": [
        " \n",
        "\n",
        "Monarch:Threats in the region increasingly complex and mounts the role of non-state actors Sunday, December 7, 2014Received the King of the country, His Majesty King Hamad bin Isa Al Khalifa, in Sakhir Palace yesterday, in the presence of Crown Prince and Deputy Supreme Commander of the First Deputy Prime Minister and His Royal Highness Prince Salman bin Hamad Al Khalifa, the heads of delegations participating in the Manama Dialogue in its tenth session, which was organized by the Institute International Strategic Studies in collaboration with the Ministry of Foreign Affairs of the Kingdom of Bahrain, whichBegan its work in the UK yesterday evening.His Majesty the King has welcomed guests of the country and their involvement in the Manama Dialogue, also exchanged Majesty them cordial talks about the most important topics discussed in the Manama Dialogue and posed a security, political and economic issues concerned with regional and global affairs, and His Majesty King prefer throwing the word Semitic reading:Their Highnesses, Excellencies, Distinguished Guests ,,, ,,, It is a pleasure to welcome you to the Kingdom of Bahrain, and we wish you all a good and fruitful stay.The host of the Kingdom of Bahrain, over the past decade, the meetings of the Manama Dialogue, come out of our conviction that the extensive dialogue is the most effective way to promote and maintain security and stability in the region, we can not today, but to congratulate all the participants in the Manama Dialogue, in its tenth anniversary, and I thank Dr. John mar Mann for his great efforts in the last period, and we look forward to the yearsMany to come, most successful in strengthening dialogue and discussions among all partners in the regional interest."
       ]
      },
      {
       "output_type": "stream",
       "stream": "stdout",
       "text": [
        " \n",
        "\n",
        "Crown: the fight against terrorism and extremism require an international definition of what constitutes Altheovascheh groups Sunday, December 7, 2014\n",
        "\n",
        "\n",
        "Manama - us:Crown Prince and Deputy Supreme Commander of the First Deputy Prime Minister and His Royal Highness Prince Salman bin Hamad Al Khalifa stressed that the fight against terrorism and extremism requires clear identification of an internationally agreed definition of what constitutes Altheovascheh groups and are based upon factors provide them with the reasons for non-proliferation and expansion.Upon meeting his, in the presence of his son, His Highness Shaikh Isa bin Salman bin Hamad Al Khalifa, with the Minister of State for Defence and National Development of the Republic of Singapore Muhammad owners Othman on the occasion of his visit to the country to participate in a forum Manama Dialogue 2014, His Highness said that he \"hoped to be a growing international cooperation and coordination consistent with the sensitivity of this file that affects everyone. \"He commended carefully Singapore to participate in the forum Manama Dialogue, which celebrates this year Pencchth tenth, and confirmed his outstanding role played by the friendly state in support of the international cooperation and efforts to save the stability and security of the region, praising his growing friendship and cooperation relations between the Kingdom of Bahrain and the Republic of Singapore, which reflected on the several tracks under the desire of both countries and looked forward to theMore opportunities for bilateral cooperation."
       ]
      },
      {
       "output_type": "stream",
       "stream": "stdout",
       "text": [
        " \n",
        "\n",
        "Crown: coordinate joint efforts in order to achieve stability and peace to the region Sunday, December 7, 2014\n",
        "\n",
        "\n",
        "Manama - us:Confirmed the Crown Prince and Deputy Supreme Commander of the First Deputy Prime Minister and His Royal Highness Prince Salman bin Hamad Al Khalifa to confront terrorism and the statement of the true face of terrorism and limbs which slips behind Altheovascheh groups under regional and international variables accelerating calls from everyone need shoulder to shoulder work to coordinate joint efforts in order to achieve stability and peaceFor the region.His Royal Highness Crown Prince and Deputy Supreme Commander of the First Deputy Prime Minister at the meeting and praised yesterday, in the presence of his son, His Highness Shaikh Isa bin Salman bin Hamad Al Khalifa, Foreign Minister Sheikh Khalid bin Ahmed Al Khalifa, Foreign Minister of the United Arab Emirates sister HH Sheikh Abdullah bin Zayed Al Nahyan, on the occasion of his participation in the forum Manama Dialogue, including links between the KingdomBahrain and the United Arab Emirates and the sister state of fraternal and historical her constant communication between the two countries and peoples, stressing his role of the two brotherly countries is important about everything that promotes understanding and dedicate a matter of security and stability in the region, the language of dialogue.He welcomed his presence and participation of His Highness the UAE Foreign Minister in the work of a forum Manama Dialogue reviewing Prince with the most important topics and issues posed by the Manama Dialogue and touched his with His Highness Sheikh Abdullah Bin Zayed to the international coalition's efforts to stop the expansion of terrorism and extremism and drain its resources.He informed his UAE Foreign Minister to convey his greetings to the leadership of the United Arab Emirates and the wishes of the state sister all the progress and prosperity.For his part, His Highness the UAE Foreign Minister expressed his appreciation for his Prince's continuous interest in supporting cooperation and coordination with the national frameworks and praised posed by the Manama Dialogue forum topics in the field of security and the nature of the cooperation needed to bring more support to international peace and security."
       ]
      },
      {
       "output_type": "stream",
       "stream": "stdout",
       "text": [
        " \n",
        "\n",
        "Crown: fill all the channels that contribute to prolonging the survival of extremist ideology Sunday, December 7, 2014\n",
        "\n",
        "\n",
        "Manama - us:Praised the Crown Prince and Deputy Supreme Commander of the First Deputy Prime Minister and His Royal Highness Prince Salman bin Hamad Al Khalifa deeply what connects the Gulf Cooperation Council (GCC) of fraternal relations solid body continuous communication between the leaders of the GCC countries and their peoples, which contributed to match the attitudes towards various issues of regional and international topics In the framework of the Cooperation Council for the Arab States of the Gulf system.His Royal Highness Crown Prince and Deputy Supreme Commander of the First Deputy Prime Minister and I have to meet with His Highness expressed yesterday, in the presence of his son, His Highness Shaikh Isa bin Salman bin Hamad Al Khalifa, Foreign Minister Sheikh Khalid bin Ahmed Al Khalifa, the heads of delegations of the Gulf Cooperation Council, and the Secretary General Gulf Cooperation Council Abdullatif Al-Zayani on the occasion of their participation in the work of the Manama Dialogue Forum welcomed the level ofPost brotherly and friendly countries in Manama Dialogue Forum in 2014, which reflected the growing importance of this forum and seriousness in addressing the issues of the region and the Middle East, which this year celebrates the tenth anniversary of its inception in exceptional circumstances facing the region."
       ]
      },
      {
       "output_type": "stream",
       "stream": "stdout",
       "text": [
        " \n",
        "\n",
        "Crown: Bahraini Russian relations have witnessed a steady growth in the framework of bilateral agreements Sunday, December 7, 2014\n",
        "\n",
        "\n",
        "Manama - us:Confirmed the Crown Prince and Deputy Supreme Commander of the First Deputy Prime Minister and His Royal Highness Prince Salman bin Hamad Al Khalifa, the need to be consistent results achieved by the coordination of international efforts to fight Altheovascheh groups on the ground with a long-term strategic goals to reach sustainable outputs in this range.Upon meeting his in the presence of his son, His Highness Shaikh Isa bin Salman bin Hamad Al Khalifa, with your peace Russian envoy in the Middle East, Sergei Farchann in the framework of the business forum Manama Dialogue X, His Highness stressed the importance of international partnership focused in their efforts to fight Altheovascheh groups workflows coordinate political and economic; for this pivotal goal.The importance of eating his investment opportunities for peace and stability in the development, noting that the Kingdom of Bahrain From this point of seeking through to stand by the international coalition to counter the threat posed by terrorism and extremism to the values \u200b\u200bof tolerance and peace.He expressed his keenness of the Kingdom of Bahrain to strengthen and develop bilateral friendly relations with the Federal Republic of Russia, which is witnessing a steady growth in the framework of bilateral agreements which had received the attention and care of both the two countries."
       ]
      },
      {
       "output_type": "stream",
       "stream": "stdout",
       "text": [
        " \n",
        "\n",
        "Prime minister:Global Security Forum formulate direction serves the global stability of His Royal Highness Prince Khalifa bin Salman Al Khalifa, the Prime Minister stressed the importance of forums that are looking regional and international security as an umbrella to unite the ideas and visions for the formulation and one went to serve in the end to global security, and praised the participation of the State of Kuwait in the discussion forum Manama and the importance of the role of KuwaitInfluential in regional and global security."
       ]
      },
      {
       "output_type": "stream",
       "stream": "stdout",
       "text": [
        " \n",
        "\n",
        "Prime minister:Enough busier politics come development time of His Royal Highness Prince Khalifa bin Salman Al Khalifa, the Prime Minister stressed the importance of intensifying the international community's efforts to bring peace to his role in the achievement of development, stressing the need to \u00abincrease employment and coordination to support the peace efforts in the region and preventing the peace affected, Vikvaha what passed from the bitter experiences of instability and witnessed the challengesReal-time impact on the peace process in the region, stressing that it is his development of the economy and the time and enough of saturated engaging in politics \u00bb."
       ]
      },
      {
       "output_type": "stream",
       "stream": "stdout",
       "text": [
        " \n",
        "\n",
        "Prime minister:Arab coordination necessary to support the stability and the fight against terrorism, His Royal Highness Prince Khalifa bin Salman Al Khalifa, the Prime Minister stressed the importance of coordination between the Arab countries and cooperation among them in the security support and stabilize the region, and the fight against terrorism in all its forms and manifestations, with Egyptian Foreign Minister Sameh Shoukry stressed that \u00abGulf security is an integral part of Egyptian national security part, refused to EgyptAll forms of interference to destabilize the GCC countries \u00bb. He said the Prime Minister during his meeting with Minister Shukri yesterday, Arab coordination for\u00bb combat terrorism in all its forms and manifestations, especially in light of the challenges witnessed by the countries in the region is what underscores the need to show the fixed positions that preserve the integrity of the States of terrorism \u00bb.And accept His Royal Highness the Prime Minister with the Foreign Minister of Egypt historical relations between the two countries and ways of enhancing them in various Majalat.oakd HH as exemplified by the Arab Republic of Egypt from the strategic depth of the Arabs and everyone is looking forward to it to be stable, praising the Egyptian stances always honorable towards the Kingdom of Bahrain and to the the security and stability of the region."
       ]
      },
      {
       "output_type": "stream",
       "stream": "stdout",
       "text": [
        " \n",
        "\n",
        "Prime minister:Dam legislative and technical loopholes exploited to force terrorism His Royal Highness Prince Khalifa bin Salman Al Khalifa, Prime Minister need to fill the legislative and technical gaps that exploit the force of terrorism which, pointing out that \u00absecurity must prevail and interference in the internal affairs of States must be stopped because it helps Log terrorism on the way, and the cooperation Fareh by everyone and lend itself to him, especially ifContribute to strengthening security and stability. \u00bbHis Highness said, during a meeting with a number of members of the House of Lords and House of Commons the British Council on the occasion of their participation in the forum \u00abManama Dialogue\u00bb yesterday, said that \u00abBahrain girl with Britain with a strong foundation relations and we hope that construction will continue on through the fruitful cooperation, we were together and we will be together friends of ours interests and relationships joint \u00bb, praising\u00bb British Bahraini relations \u00bb."
       ]
      },
      {
       "output_type": "stream",
       "stream": "stdout",
       "text": [
        " \n",
        "\n",
        "Prime Minister and Farshen:Interfere with states allowed the field to the hotbeds of terrorism, His Royal Highness Prince Khalifa bin Salman Al Khalifa, Prime Minister and the Special Representative of the Russian Foreign Minister for the Middle East and North Africa Sergei Farshen need for cooperation regarding issues of the region is based on fairness and justice emphasized, particularly the Palestinian issue and refused to interfere in the internal affairs States, Mchiran that \u00absuchInterventions have undermined stability in the region and allowed the field to be hotbeds of terrorism in it. \u00bbHe stressed the Prime Minister, during his meeting with Farshen his palace in Riffa yesterday \u00abneed to work on the development of the Bahraini-Russian relations by increasing the prospects for political and economic cooperation between Bahrain and Russia\u00bb, expressing \u00abaspiration Bahrain to increase the exchange of visits between officials of the two countries and the development aspects of coordination between them in the forums International and Russian reinforced Gulf Cooperation established,His Highness praised the positions of Russian support for Bahrain \u00bb.oahad His Royal Highness Prime Minister b\u00bb advanced level reached by the relations between Bahrain and Russia \u00bb, stressing that\u00ab Bahrain looks forward to further cooperation and coordination with the Federal Republic of Russia-friendly at all levels \u00bb.For his part, the Russian envoy welcomed the results of the parliamentary and municipal elections \u00abbecause it reflects the will of the people\u00bb, congratulated His Royal Highness Prime Minister commissioned by His Highness to form a cabinet, expressing certainty country that \u00abthe process of national achievement in the Kingdom of Bahrain will continue starting with the formation of the government and parliament of the new\u00bb."
       ]
      },
      {
       "output_type": "stream",
       "stream": "stdout",
       "text": [
        " \n",
        "\n",
        "Crown: the intensification of the fight against terrorism and extremism positions and procedures determined efforts of His Royal Highness Prince Salman bin Hamad Al Khalifa, the Crown called Prince and Deputy Supreme Commander of the First Deputy Prime Minister and to the need to intensify efforts to fight terrorism and extremism resolute measures and adopt attitudes contribute to strengthening efforts to confront terrorism and determine the limbs."
       ]
      },
      {
       "output_type": "stream",
       "stream": "stdout",
       "text": [
        " \n",
        "\n",
        "Crown: groups based in religion means to achieve political gains His Royal Highness Prince Salman bin Hamad Al Khalifa, Crown Prince and Deputy Supreme Commander of the First Deputy Prime Minister of the need to unify the visions and the course of action at the level of international partners to fight Altheovascheh groups based in religion and a way to achieve gains Political though varied curriculum.His Highness said, when meeting in the presence of his son, His Highness Shaikh Isa bin Salman bin Hamad Al Khalifa, with Canadian Foreign Minister John Baird in the framework of the forum Manama Dialogue X, it must blocking roads and avenues in front of these groups in their efforts to sow discord and chaos to undermine the elements of development in the region."
       ]
      },
      {
       "output_type": "stream",
       "stream": "stdout",
       "text": [
        " \n",
        "\n",
        "Crown:Unite to confront terrorism and the statement true face and limbs of His Royal Highness Prince Salman bin Hamad Al Khalifa, Crown Prince and Deputy Supreme Commander of the First Deputy Prime Minister stressed that the face of terrorism and the statement of the real face and limbs, which is hidden behind Altheovascheh groups under regional and international variables accelerating calls from everyone need work shoulder to shoulder to coordinate effortsCommon in order to achieve stability and peace to the region.He praised His Royal Highness Crown Prince and Deputy Supreme Commander of the First Deputy Prime Minister, at a meeting yesterday in the presence of his son, His Highness Shaikh Isa bin Salman bin Hamad Al Khalifa and Sheikh Khalid bin Ahmed bin Mohammed Al Khalifa, Foreign Minister of the United Arab Emirates, the sister of His Highness Sheikh Abdullah bin Zayed Al Nahyan, on the occasion of his participation in the forum Manama Dialogue, including links between the Kingdom of Bahrain and the StateUnited Arab Emirates sister of fraternal and historical her constant communication between the two countries and peoples, stressing the role of the two brotherly countries is important about everything that promotes understanding and dedicate a matter of security and stability in the region, the language of dialogue.He welcomed his presence and participation of His Highness the UAE Foreign Minister in the work of the Manama Dialogue forum, reviewing with him the most important topics and issues posed by Almnama.ottriq his dialogue with His Highness Sheikh Abdullah Bin Zayed to the international coalition's efforts to stop the expansion of terrorism and extremism and drain its resources.He informed his UAE Foreign Minister to convey his greetings to the leadership of the United Arab Emirates and the wishes of the state sister all the progress and prosperity.For his part, His Highness the UAE Foreign Minister expressed his appreciation for his Prince's continuous interest in supporting cooperation and coordination with the national frameworks, praising what posed by the Manama Dialogue forum topics in the field of security and the nature of the cooperation needed to bring more support to international peace and security."
       ]
      },
      {
       "output_type": "stream",
       "stream": "stdout",
       "text": [
        " \n",
        "\n",
        "Crown:Political and economic tracks coordinate to fight Altheovascheh groups, His Royal Highness Prince Salman bin Hamad Al Khalifa, Crown Prince and Deputy Supreme Commander of the First Deputy Prime Minister of the need to be consistent results achieved by coordinating international efforts to fight the ground Altheovascheh groups with strategic long-term objectives to reach the output sustainable in this -scale,Stressing the importance of international partnership that focuses on efforts to combat Altheovascheh groups to coordinate economic and political courses of action for this pivotal goal.And eat of His Royal Highness Crown Prince and Deputy Supreme Commander of the First Deputy Prime Minister, at a meeting attended by his son, His Highness Shaikh Isa bin Salman bin Hamad Al Khalifa, with your peace Russian envoy in the Middle East, Sergei Farchann in the framework of the business forum Manama Dialogue X, the importance of investment opportunities Peace and stability in the development, noting that the Prince of the Kingdom of Bahrain From this pointSeeking through to stand by the international coalition to counter the threat posed by terrorism and extremism to the values \u200b\u200bof tolerance and peace."
       ]
      },
      {
       "output_type": "stream",
       "stream": "stdout",
       "text": [
        " \n",
        "\n",
        "Minister of State for Defence looking to strengthen its military coordination with Singapore research and Minister of State for Defence team doctor Sheikh Mohammed bin Abdullah Al Khalifa, in a meeting at the Ritz-Carlton Hotel yesterday with the Minister of State for Defence and National Development Dr.Mohammed Othman owners in the Republic of Singapore, on the occasion of his visit to Bahrain to participate in the Forum's tenth \u00bbManama Dialogue conference in 2014\u00bb, cooperation and friendship between the two countries and ways of enhancing relations in particular with regard to the military coordination.The two sides exchange views on a number of things, especially in hubs Manama Dialogue 2014 conference, in addition to discussing a number of issues of common interest.The meeting was attended by the commander of Royal Bahraini Air Force pilot Maj. Gen. Sheikh Hamad bin Abdulla Al Khalifa, and the Commander of the Royal mechanism sixth Infantry Battalion Brigadier Sheikh Salman bin Khalid Al Khalifa, accompanying Secretary of State for Defence and National Development of Singapore delegation."
       ]
      },
      {
       "output_type": "stream",
       "stream": "stdout",
       "text": [
        " \n",
        "\n",
        "\u00abChief of Staff\u00bb appreciates the participation of ministers and military officials to \u00abManama Dialogue\u00bb eighth Chief of Staff Lt. Gen. Sheikh Daij bin Salman Al Khalifa, the participation of many ministers and officials of the military, academics and experts in safety from various countries around the world, at a forum of regional security summit \u00abManama Dialogue\u00bb .He praised Sheikh Daij bin Salman Al Khalifa, when attending the Forum tenth \u00abHawwaralamnama 2014\u00bb sessions, organized by the International Institute for Strategic Studies, The Ritz-Carlton Hotel on Friday and wraps up today, securities discussion and words put forward by the participants of the senior officials of foreign countries, which addressed a number of security matters that concern issues of securityAnd peace in the region, praising the role of the organizers of the Forum tenth Manama Dialogue 2014 and the creation of all the ways to make it a success."
       ]
      },
      {
       "output_type": "stream",
       "stream": "stdout",
       "text": [
        " \n",
        "\n",
        "Director \u00abManama Municipality\u00bb: proud of the elements of women and support the rise the ladder of success in Manama Municipality Sheikh Mohammed bin Ahmed Al director Khalifa stressed that Bahraini women have become a cornerstone essentially within the reform project of His Majesty the King, explaining that the progress and evolution of the march of Bahraini women is due to the great support it enjoys in Bahrain.Said Mohammed bin Ahmed, during a ceremony held by the secretariat of the capital on the occasion of the Bahraini Women's Day, said that \u00abthis day, which was adopted by the Supreme Council for Women, headed by Her Royal Highness Princess alloy girl Ibrahim Al Khalifa, is the culmination of the efforts of Bahraini women Her tender and active participation in all fields political, social, economic, and the embodiment of its role inBuilding renaissance high our country as well as their contribution to the ongoing process of national development \u00bb, adding that\u00ab allocation on Bahraini women comes as the right to announce the successful women the right to be proud and celebrate, rising the ladder of success stage after the other .. This is just one of the leading initiatives to support and empower women and strengthen its position in the UK. \u00bbThe Mohammed bin Ahmed expressed great thanks and gratitude for the role of Commissioner for Her Royal Highness Princess alloy girl Ibrahim Al Khalifa, wife of His Majesty the King of Bahrain and President of the Supreme Council for Women, what you offer support and assistance to the elevation of the Bahraini woman's name in various fields, whether military and civilian, praising in time himself to the tireless efforts made by each employee under the umbrellaCapital Secretariat to provide services to citizens, alluding to continue the support and encouragement of the elements of the female labor and the estimated continued their quest to promote the advancement and marched work Albulda.ouchehd ceremony honoring female employees in the capital Sana'a and in recognition of their efforts in the service of municipal work.For their part, the employees Awardees expressed thanks and appreciation for this gesture and celebrate them in the Bahraini Women's Day, claiming they Sioasaln hard work and excellence for the permanent lifting of Bahrain's name."
       ]
      },
      {
       "output_type": "stream",
       "stream": "stdout",
       "text": [
        " \n",
        "\n",
        "Crown Prince and Nasser bin Hamad crowning Champions Challenge Bahrain Trajthelon His Royal Highness Prince Salman bin Hamad Al Khalifa, Crown confirmed Prince and Deputy Supreme Commander of the First Deputy Prime Minister save God to organize competitions to challenge Bahrain triathlon was a continuation of the interest of His Majesty King parent Hamad bin Isa Al Khalifa, King of Bahrain may God protect him and guidanceSupport Bahraini youth in various fields to reach the desired successes that contribute to enhancing the reputation of the Kingdom of Bahrain and its capabilities in hosting and organizing various tournaments and competitions youth and sports."
       ]
      },
      {
       "output_type": "stream",
       "stream": "stdout",
       "text": [
        " \n",
        "\n",
        "Nasser bin Hamad:Fourth culmination of the efforts and praised His Highness Sheikh Nasser bin Hamad Al Khalifa, the patronage of His Royal Highness Prince Salman bin Hamad Al Khalifa for the tournament and the coronation of the winners which has had a very positive impact on the hearts of all the participants, organizers and the coronation of their giving in the presence of His Highness the Heir Apparent He highlighted the importance of presence in the tournament through the broad participation by the various practitionersSports in various countries around the world who were keen to provide the best levels of competition on the advanced centers.Shaikh Nasser bin Hamad Al Khalifa pointed out that championship Bahrain Triathlon gave Bahraini team's biggest technical expertise to deal with these races in the upcoming tournaments and was a good place to gain expertise which will contribute to increase the Bahraini team experience and pave the way to achieve better results in the coming tournaments, stressing his that the tournament was dubbed insist challenge to endScheduled for the championship distance in less time period which requires fitness and high strength help to finish the competition and check the result that will satisfy ambitions.He Shaikh Nasser bin Hamad Al Khalifa \u00abWe have achieved a result Mtimzh in the tournament to achieve 4:21:11 hours and is one of the results are encouraging and satisfaction after a series of strong and serious during the past period of preparations to reach gracing the Kingdom in this great sports forum, which put Bahrain as a center for the sport of triathlon in the Middle East \u00bb."
       ]
      },
      {
       "output_type": "stream",
       "stream": "stdout",
       "text": [
        " \n",
        "\n",
        "Bahrain's king issued a decree to form a new government, King Hamad bin Isa Al Khalifa, King of Bahrain issued a royal decree on Monday to form a new government headed by Prince Khalifa bin Salman Al Khalifa."
       ]
      },
      {
       "output_type": "stream",
       "stream": "stdout",
       "text": [
        " \n",
        "\n",
        "Bahrain: King Hamad issued a decree to form a government of 17 ministers, King Hamad bin Isa Al Khalifa of Bahrain issued a royal decree yesterday to form a government, headed by Prince Khalifa bin Salman Al Khalifa."
       ]
      },
      {
       "output_type": "stream",
       "stream": "stdout",
       "text": [
        " \n",
        "\n",
        "Al-Khalifa: serious need in the letters of cooperation between the Gulf states Bahraini Foreign Minister Sheikh Khaled bin Ahmed al-Khalifa confirmed yesterday, the need for the letters of cooperation between the countries in the region with the seriousness and implementation on the ground."
       ]
      },
      {
       "output_type": "stream",
       "stream": "stdout",
       "text": [
        " \n",
        "\n",
        "Bahrain is a new government headed by Khalifa bin Salman issued by King Hamad bin Isa Al Khalifa, King of Bahrain, a royal decree yesterday to form a new government headed by Prince Khalifa bin Salman Al Khalifa."
       ]
      },
      {
       "output_type": "stream",
       "stream": "stdout",
       "text": [
        " \n",
        "\n",
        "Bahrain's king issued a royal decree to form a new government Almskhaddm * Name King Hamad bin Isa Al Khalifa of Bahrain issued a royal decree on the formation of the new government headed by Prince Khalifa bin Salman Al Khalifa."
       ]
      },
      {
       "output_type": "stream",
       "stream": "stdout",
       "text": [
        " \n",
        "\n",
        "Bahrain's king issued a royal decree to form a new government Manama - SPA: (stems News) rebounds\n",
        "\n",
        "King Hamad bin Isa Al Khalifa of Bahrain issued a royal decree to form a new government headed by Prince Khalifa bin Salman Al Khalifa."
       ]
      },
      {
       "output_type": "stream",
       "stream": "stdout",
       "text": [
        " \n",
        "\n",
        "Names .. Bahraini royal decree forming a new government WASHINGTON: King of Bahrain's King Hamad bin Isa Al Khalifa issued a royal decree to form a new government headed by Prince Khalifa bin Salman Al Khalifa, who is the oldest prime minister in the world."
       ]
      },
      {
       "output_type": "stream",
       "stream": "stdout",
       "text": [
        " \n",
        "\n",
        "Bahrain's king issued a royal decree to form a new government \u00bbSPA - National beloved:\r\n",
        "\r\n",
        "King Hamad bin Isa Al Khalifa of Bahrain issued a royal decree to form a new government headed by Prince Khalifa bin Salman Al Khalifa."
       ]
      },
      {
       "output_type": "stream",
       "stream": "stdout",
       "text": [
        " \n",
        "\n",
        "Bahrain's king issued a decree of the new composition of the government issued the King of Bahrain's King Hamad bin Isa Al Khalifa yesterday evening issued a royal decree for the formation of the new Bahraini government, which had previously His Royal Highness Prince Khalifa bin Salman Al Khalifa was appointed as its chairman and tabbed formed early last week after the announcement of election results Parliamentary and municipal 2014."
       ]
      },
      {
       "output_type": "stream",
       "stream": "stdout",
       "text": [
        " \n",
        "\n",
        "Sheikh Khalid Al Khalifa: military option is not the only solution to terrorism Bahraini Foreign Minister Sheikh Khalid Al Khalifa said at the opening session of the Manama Dialogue tenth that a military solution in the face of extremist organizations is not the only solution."
       ]
      },
      {
       "output_type": "stream",
       "stream": "stdout",
       "text": [
        " \n",
        "\n",
        "We publish the names of the new government of Manama after the decree monarch Bahraini seventh day issued a monarch Bahraini King Hamad bin Isa Al Khalifa royal decree, on Saturday evening, the formation of the new government, and included government four new faces, while the most prominent ministers deserted New whom the ministerial list, Samira Ibrahim Bin Rajab, Minister of State for Information.It also saw the new Bahraini government lineup exit 3 of ruling Al Khalifa family of modulation ministerial are Minister of State for Defence, Sheikh Mohammed bin Abdullah Al Khalifa, Minister of State for Communications Shaikh Fawaz bin Mohammed Al Khalifa, the Minister of Culture Shaikha Mai bin Mohammed Al Khalifa, according to middle Bahraini newspaper.According to the text of the decree forming the government, which was published by the News Agency of Bahrain, it is Prince Salman bin Hamad bin Isa Al Khalifa appointed Crown Prince and Deputy Supreme Commander, First Deputy Prime Wazzra.ufema Council following the new government, according to the decree: Vice President of Wazzra1.heik Mohammed bin Mubarak Al Khalifa, Deputy Prime Minister 2."
       ]
      },
      {
       "output_type": "stream",
       "stream": "stdout",
       "text": [
        " \n",
        "\n",
        "Bahrain's king issued a decree forming a new government Manama - Kingdom of Bahrain issued a monarch, King Hamad bin Isa Al Khalifa yesterday evening issued a royal decree to form a government headed by His Royal Highness Prince Khalifa bin Salman Al Khalifa."
       ]
      },
      {
       "output_type": "stream",
       "stream": "stdout",
       "text": [
        " \n",
        "\n",
        "Bahrain's king issued a decree forming a new government up Bahrain's king issued a decree to form a new government, King Hamad bin Isa of Bahrain issued a royal decree on the formation of the new government headed by Prince Khalifa bin Salman Al Khalifa."
       ]
      },
      {
       "output_type": "stream",
       "stream": "stdout",
       "text": [
        " \n",
        "\n",
        "Bahrain's king issued a decree forming the government issued the king of Bahrain, Hamad bin Isa Al Khalifa issued a royal decree to form a government, according to the proposed line last week, Prime Minister-designate Khalifa bin Salman Al Khalifa that."
       ]
      },
      {
       "output_type": "stream",
       "stream": "stdout",
       "text": [
        " \n",
        "\n",
        "\u00abKhalifa humanitarian\u00bb provide for the expenses of a mass wedding in Bahrain ensured Khalifa bin Zayed Al Nahyan Foundation for Humanitarian work and for the fourth consecutive year the expenses mass wedding was held in the Bahraini capital Manama, three days before the annexation of 222 young men and women of the Kingdom of Bahrain attended by Khalifa bin Ahmed Al Zahrani Speaker of the Parliament of the Kingdom Bahrain and Ahmed Mazrui Acting UAE Embassy inManama, Mohamed Haji Al Khouri, Director General of Khalifa Foundation for humanitarian action, and a number of senior officials in Bahrain."
       ]
      },
      {
       "output_type": "stream",
       "stream": "stdout",
       "text": [
        " \n",
        "\n",
        "King of Bahrain issued a decree to form a new government - Roayah News vision Manama - Bahrain issued a King Hamad bin Isa Al Khalifa, on Sunday, a royal decree to form a new government headed by Prince Khalifa bin Salman Al Khalifa."
       ]
      },
      {
       "output_type": "stream",
       "stream": "stdout",
       "text": [
        " \n",
        "\n",
        "Prime Minister underlines the importance of the role of Alkwytalmather in regional and global security Posted:December 7, 2014, received His Royal Highness Prince Khalifa bin Salman Al Khalifa, Prime Minister at Riffa Palace yesterday morning team Sheikh Abdullah Nawaf Al-Ahmad Al-Sabah Deputy Chief of Army Staff State of Kuwait and Sheikh Thamer Ali Sabah Al Salem Al Sabah, head of the National Security State of Kuwait, on the occasion of their visit to the country to participate in the forum \u00abManama Dialogue\u00bb."
       ]
      },
      {
       "output_type": "stream",
       "stream": "stdout",
       "text": [
        " \n",
        "\n",
        "Prime Minister: We were together and we will stay and relationships common Posted friends of ours interests: December 7, 2014, His Royal Highness Prince Khalifa bin Salman Al Khalifa, the Prime Minister stressed that Bahrain has a girl with Britain with a strong foundation relations and we hope that construction will continue on through the fruitful cooperation, we were together and we will be together friends of ours common interests and relationships."
       ]
      },
      {
       "output_type": "stream",
       "stream": "stdout",
       "text": [
        " \n",
        "\n",
        "Threats in the region increasingly complex and outstanding issues still hanging over the Gulf region and the Middle East, the date of publication:December 7, 2014 His Majesty King Hamad bin Isa Al Khalifa, King of Bahrain in Sakhir Palace yesterday in the presence of His Royal Highness Prince Salman bin Hamad Al Khalifa, Crown Prince and Deputy Supreme Commander of the First Deputy Chairman of the Council of Ministers, heads of delegations participating in the Manama Dialogue in its tenth and organized by the International Institute for Strategic Studies in collaboration with the Ministry ofForeign Affairs of the Kingdom of Bahrain, which began its work in the UK yesterday evening."
       ]
      },
      {
       "output_type": "stream",
       "stream": "stdout",
       "text": [
        " \n",
        "\n",
        "Dec 07, 2014 at Macca 04:48 Manama - the agency \"broadcast\": King of Bahrain issued a King Hamad bin Isa Al Khalifa, on Saturday evening, a royal decree for the formation of the new Bahraini government, which had previously His Royal Highness Prince Khalifa bin Salman Al Khalifa was appointed as its chairman and tabbed formed early last week after the announcement of the results of the parliamentary and municipal elections of 2014."
       ]
      },
      {
       "output_type": "stream",
       "stream": "stdout",
       "text": [
        " \n",
        "\n",
        "Bahrain's king issued a decree forming the government voted Hail (Reuters) - King of Bahrain issued Hamad bin Isa Al Khalifa issued a royal decree to form a government, according to the proposed line last week, Prime Minister-designate Khalifa bin Salman Al Khalifa that."
       ]
      },
      {
       "output_type": "stream",
       "stream": "stdout",
       "text": [
        " \n",
        "\n",
        "Bahrain's king issued a royal decree to form a new government worldwide event\n",
        "        \n",
        "            12/07/2014\n",
        "                     12/07/2014 rebounds (happened): King Hamad bin Isa Al Khalifa of Bahrain issued a royal decree to form a new government headed by Prince Khalifa bin Salman Al Khalifa."
       ]
      },
      {
       "output_type": "stream",
       "stream": "stdout",
       "text": [
        " \n",
        "\n",
        "Chief of Staff to attend sessions Manama Dialogue conference date of publication:December 7, 2014, Lt. General Shaikh Sulaiman bin Salman Al Khalifa, Chief of Staff attended the Forum tenth \u00absessions Manama Dialogue 2014\u00bb, which was held Ritz Carlton Hotel, which was organized by the International Institute for Strategic Studies, where he discusses in his version of the tenth issues related to regional security in the region, including priorities Alastregih in the Middle East, and the issue of Syria and IraqAnd regional security, and counter extremism in the Middle East, and collective approach to deal with the current security challenges."
       ]
      },
      {
       "output_type": "stream",
       "stream": "stdout",
       "text": [
        " \n",
        "\n",
        "Sameh Shoukry: Gulf security is an integral part of the Egyptian security Posted: December 7, 2014, received His Royal Highness Prince Khalifa bin Salman Al Khalifa, Prime Minister Sameh Shoukry Foreign Minister of the Arab Republic of Egypt sister.During the meeting, His Royal Highness the Prime Minister stressed the importance of coordination between the Arab countries and cooperation among them in support of security and stabilization in the region, and the fight against terrorism in all its forms and manifestations, especially in light of the challenges witnessed by the countries of the region, which underlines the need to show fixed positions that preserve the integrity of States from terrorism, with Egyptian Foreign Minister stressed that theGulf security is an integral part of the Egyptian national security and that Egypt rejects all forms of interference to destabilize the Gulf Cooperation Council.Having reviewed by His Royal Highness the Prime Minister with the Foreign Minister of the Arab Republic of Egypt sister historical relations between the two countries and ways of enhancing them in various fields, where also asserted in this regard, as exemplified by the Arab Republic of Egypt of strategic depth to the Arabs, and everyone is looking forward to it to be stable, praising his Egyptian attitudes toward supervising alwaysKingdom of Bahrain and to the security and stability of the region."
       ]
      },
      {
       "output_type": "stream",
       "stream": "stdout",
       "text": [
        " \n",
        "\n",
        "It's the time of development, economy and politics Enough busier Posted: December 7, 2014, received His Royal Highness Prince Khalifa bin Salman Al Khalifa, Prime Minister, Mr. Terje Roed-Larson, director of the International Institute of Peace.During the meeting, His Royal Highness the Prime Minister stressed the importance of intensifying the international community's efforts to bring peace to his role in the development and the need for greater action and coordination to support the peace efforts in the region and preventing the peace that is affected, Vikvaha what passed from the bitter experiences of instability and witnessed the challenges of real-time impact on the peace process in the region, stressing hisIt's about the economy and the development time and enough of saturated engaging in politics."
       ]
      },
      {
       "output_type": "stream",
       "stream": "stdout",
       "text": [
        " \n",
        "\n",
        "Working to increase the prospects for political and economic cooperation with Russia Date of Publication:December 7, 2014 at his reception of the Russian envoy, His Royal Highness Prince Khalifa bin Salman Al Khalifa, the Prime Minister stressed the need to work on the development of the Bahraini-Russian relations by increasing the prospects for political and economic cooperation between the Kingdom of Bahrain and the Republic of the Russian Federation friendly, expressing his Bahrain's aspiration to increase the exchange of visits between officials of theThe two countries and the development aspects of coordination in international forums and enhanced Gulf Russian cooperation established, and praised his Russian support for Bahrain's positions, as the two sides stressed the need for cooperation with the region's issues is based on fairness and justice, particularly the Palestinian issue, and refused to interfere in the internal affairs States because such interventions have undermined stability inRegion and allowed area to be hotbeds of terrorism in it. It was His Royal Highness the Prime Minister had received his palace in Riffa yesterday, Mr. Sergei Farshen Special Representative of the Foreign Minister of the Federal Republic of Russia for the Middle East and North Africa, on the occasion of his participation in the \u00abManama Dialogue\u00bb.During the meeting, His Royal Highness the Prime Minister stressed the advanced level reached by the relations between the Kingdom of Bahrain and the Republic of the Russian Federation, His Highness stressed that the Kingdom of Bahrain looks forward to further cooperation and coordination with the Federal-friendly at all levels of the Republic of Russia.For his part, the Russian envoy welcomed the results of the parliamentary and municipal elections because it reflects the will of the people, and congratulated His Royal Highness Prime Minister Prince commissioned to form a cabinet, and expressed his certainty that the course of national achievement in the Kingdom of Bahrain will continue starting with the formation of the new government and parliament ."
       ]
      },
      {
       "output_type": "stream",
       "stream": "stdout",
       "text": [
        " \n",
        "\n",
        "Outstanding Achievement Date Published: December 7, 2014 cover - Media Committee:Under the patronage of His Royal Highness Prince Salman bin Hamad Al Khalifa, Crown Prince and Deputy Supreme Commander of the First Deputy Chairman of the Council of Ministers held a race \u00abchallenge Bahrain Ttrajthelon amid the participation of more than 1000 racer and contestants representing 51 countries from different continents of the world, and enable His Highness Sheikh Nasser bin Hamad Al Khalifa to achieve fourth place on the general level of the tournament, where new record time after the cutClocked a time of 4:21:11 hours and cut the amount of swimming 1.9 miles, which was launched in Bahrain in the Gulf of 0:27:37 minutes and then cut the 90-kilometer bike race distance a time of 2:22:19 and distance running amounting to 21.1 a time of 1:26: 45 hours."
       ]
      },
      {
       "output_type": "stream",
       "stream": "stdout",
       "text": [
        " \n",
        "\n",
        "Crown Prince and Nasser bin Hamad crowning Champions Challenge Bahrain Triathlon Posted:December 7, 2014, His Royal Highness Prince Salman bin Hamad Al Khalifa, Crown Prince and Deputy Supreme Commander of the First Deputy Prime Minister stressed that the organization of competitions to challenge Bahrain \u00abtriathlon\u00bb came a continuation of the interest of His Majesty King parent Hamad bin Isa Al Khalifa, King of Bahrain and guidance support youth Bahrain in various fields to reach the desired successesContribute to enhancing the reputation of the Kingdom of Bahrain and its capabilities in hosting and organizing various tournaments and competitions youth and sports."
       ]
      },
      {
       "output_type": "stream",
       "stream": "stdout",
       "text": [
        " \n",
        "\n",
        "Crown Prince meets with the heads of delegations Gulf Manama dialogue and calls to intensify efforts to fight terrorism and extremism, the date of publication:December 7, 2014, His Royal Highness Prince Salman bin Hamad Al Khalifa, Crown Prince and Deputy Supreme Commander of the First Deputy Prime Minister praised the depth of what connects the Gulf Cooperation Council (GCC) of fraternal relations solid body continuous communication between their Majesties and Highnesses the leaders of the GCC countries and their peoples, which contributed to Match attitudes towards various issues of regional and international issues inThe framework of the Cooperation Council system for Gulf Arab states."
       ]
      },
      {
       "output_type": "stream",
       "stream": "stdout",
       "text": [
        " \n",
        "\n",
        "Crown describes the Bahraini-British relations as historic date of publication:December 7, 2014 Description of His Royal Highness Prince Salman bin Hamad Al Khalifa, Crown Prince and Deputy Supreme Commander of the First Deputy Prime Minister of the Bahraini-British relations as historic and of relations after the strategically important and influential and share together in strengthening efforts to meet the various security challenges in the region, the Middle East and the reduction of tensions and conflicts that hinder pathsDevelopment."
       ]
      },
      {
       "output_type": "stream",
       "stream": "stdout",
       "text": [
        " \n",
        "\n",
        "Crown Prince meets President of the company \u00abLockheed Martin military equipment\u00bb Posted:December 7, 2014 praised His Royal Highness Prince Salman bin Hamad Al Khalifa, Crown Prince and Deputy Supreme Commander of the First Deputy Chairman of the Council of Ministers, including flows into military preparedness and defense of the Kingdom of Bahrain continues and cooperation with international institutions working in the field of equipment and military equipment, and including Lockheed Martin American leader in this field."
       ]
      },
      {
       "output_type": "stream",
       "stream": "stdout",
       "text": [
        " \n",
        "\n",
        "Working to bridge the gaps that implements including terrorism Posted: December 7, 2014, His Royal Highness Prince Khalifa bin Salman Al Khalifa, the Prime Minister said that Egypt represents a strategic depth to the Arabs, and everyone is looking forward to it to be stable, praising the Egyptian stances supervisor with Bahrain."
       ]
      },
      {
       "output_type": "stream",
       "stream": "stdout",
       "text": [
        " \n",
        "\n",
        "4 new ministers .. The amendment to the 4 centers and other Posted: December 7, 2014 issued by His Majesty King Hamad bin Isa Al Khalifa, King of Bahrain Royal Decree No. 83 of 2014 to form a new cabinet headed by His Royal Highness Prince Khalifa bin Salman Al Khalifa, Prime Cabinet ..Includes a new composition 4 new ministers entering the ministry for the first time, they are: Maj. Gen. Joseph Jalahmah Minister for Defence, super-Saleh, Minister of Social Development and Mrs. and Mr. Zayed Rashid Al Zayani, Minister of Industry and Commerce, Mr. Issa bin Abdulrahman Al Hammadi, minister for Media Affairs."
       ]
      },
      {
       "output_type": "stream",
       "stream": "stdout",
       "text": [
        " \n",
        "\n",
        "\u00abMead\u00bb: cut costs and decisions difficult for the new center Bahraini government - Fatima Al Sayegh A report issued by the magazine \u00abMed\u00bb, the willingness of Prime Minister His Royal Highness Prince Khalifa bin Salman Al Khalifa, to announce the new government after the elections, is expected to be the main item on the government's agenda is to adjust the budget and reduced to reflect the decline in oil prices."
       ]
      },
      {
       "output_type": "stream",
       "stream": "stdout",
       "text": [
        " \n",
        "\n",
        "Crown crowned Champions \u00abchallenge Bahrain Triathlon\u00bb emphasized Crown Prince and Deputy Supreme Commander of the First Deputy Prime Minister and His Royal Highness Prince Salman bin Hamad Al Khalifa, to organize competitions to challenge Bahrain triathlon was a continuation of the interest in King of Bahrain King parent Hamad bin Isa Al Khalifa and guidance support Bahraini youth in various fields to get to the successesDesired that contribute to the promotion of Bahrain's reputation and capabilities in hosting and organizing various tournaments and competitions youth and sports."
       ]
      },
      {
       "output_type": "stream",
       "stream": "stdout",
       "text": [
        " \n",
        "\n",
        "Prime Minister stresses the need for the development of the Bahraini relations - Russian Manama - our Prime Minister His Royal Highness Prince Khalifa bin Salman Al Khalifa, at a meeting in his palace in Riffa yesterday (Saturdays), Special Representative of the Foreign Minister of the Federal Republic of Russia for the Middle East and North Africa Sergei Farshen, on the occasion of his participation in the \u00abManama Dialogue\u00bb, the need to work on the development of the Bahraini-Russian relations by increasing the prospects for political and economic cooperation between the Kingdom of Bahrain and the Republic of the Russian Federation friendly."
       ]
      },
      {
       "output_type": "stream",
       "stream": "stdout",
       "text": [
        " \n",
        "\n",
        "Prime minister:Forums security umbrella unite the ideas and visions Manama - us, His Royal Highness Prince Khalifa bin Salman Al Khalifa, the Prime Minister stressed the importance of forums that are looking regional and international security as an umbrella to unite the ideas and visions for the formulation and one went to serve in the end to global security, noting his participation of the State of Kuwait sister in Manama Dialogue Forum and its importanceThe role of Kuwait influential in regional and global security."
       ]
      },
      {
       "output_type": "stream",
       "stream": "stdout",
       "text": [
        " \n",
        "\n",
        "Prime Minister stresses the importance of coordination in support of security and stabilization Manama - our Prime Minister His Royal Highness Prince Khalifa bin Salman Al Khalifa, when meeting on Saturday (December 6 / December 2014), Foreign Minister of the Arab Republic of Egypt sister Sameh Shoukry, the importance of coordination among the Arab countries, and cooperation among them in the security support and stabilize the region, and the fight against terrorism in all its forms and manifestations, especially in light of the challenges witnessed by the countries of the region, which emphasizes the need to show the fixed positions that preserve the integrity of States from terrorism."
       ]
      },
      {
       "output_type": "stream",
       "stream": "stdout",
       "text": [
        " \n",
        "\n",
        "Prime Minister: It's development time and enough of saturated engaging in politics Manama - our Prime Minister said His Royal Highness Prince Khalifa bin Salman Al Khalifa, during a meeting on Saturday (December 6 / December 2014), director of the International Peace Institute Terje Roed-Larsen: \u00abIt's time to development, economy and saturated Enough engaging in politics. \u00bb"
       ]
      },
      {
       "output_type": "stream",
       "stream": "stdout",
       "text": [
        " \n",
        "\n",
        "Prime Minister: Bahrain girl with Britain with a strong foundation relations Manama - us, His Royal Highness Prince Khalifa bin Salman Al Khalifa, the Prime Minister stressed that Bahrain girl with Britain with a strong foundation relations, and we hope to build on it continues through fruitful cooperation, we were together and we will stay together Friends of our common interests and relationships."
       ]
      },
      {
       "output_type": "stream",
       "stream": "stdout",
       "text": [
        " \n",
        "\n",
        "Crown pays tribute to the growing Russian region of interest issues, praised the Crown Prince and Deputy Supreme Commander of the First Deputy Prime Minister and His Royal Highness Prince Salman bin Hamad Al Khalifa, the growing Russian interest in the issues of the region and the Middle East, so what of the Russian Federation of influential and active role in international relations, and contribute to the promote understanding, and working to confirm the chances for peace in the MiddleEast and reduce terrorism."
       ]
      },
      {
       "output_type": "stream",
       "stream": "stdout",
       "text": [
        " \n",
        "\n",
        "Crown:Bahraini-British relations and historical dimension strategically important description Crown Prince and Deputy Supreme Commander of the First Deputy Prime Minister and His Royal Highness Prince Salman bin Hamad Al Khalifa, the Bahraini-British relations as historic and relevant relationships strategically after important and influential, and share together in strengthening efforts to meet the various security challenges in the region and the MiddleEast, and the reduction of tensions and conflicts that hinder the development paths."
       ]
      },
      {
       "output_type": "stream",
       "stream": "stdout",
       "text": [
        " \n",
        "\n",
        "Crown calls for countries \u00abcooperation\u00bb for resolute action and adopt positions to confront terrorism and identify limbs Manama - us called Crown Prince and Deputy Supreme Commander of the First Deputy Prime Minister and His Royal Highness Prince Salman bin Hamad Al Khalifa, the Gulf Cooperation Council (GCC) to the need to intensify efforts to fight terrorism and extremism, resolute action, and adopt attitudes contribute to strengthening effortsTo confront terrorism and to identify the limbs."
       ]
      },
      {
       "output_type": "stream",
       "stream": "stdout",
       "text": [
        " \n",
        "\n",
        "Government 2014:Five deputy prime ministers and 17 ministers of the center - local affairs editor released by the King of His Majesty King Hamad bin Isa Al Khalifa royal decree No. 83 of 2014 to form a ministry, as appointed Decree of His Royal Highness Prince Salman bin Hamad bin Isa Al Khalifa, Crown Prince and Deputy Supreme Commander of the First Deputy Prime Minister, also appointed four deputy prime ministers, who are His Highness Sheikh Mohammed bin Mubarak AlKhalifa, Deputy Prime Minister, His Highness Sheikh Ali bin Khalifa Al Khalifa, Deputy Prime Minister, Jawad Salim broadband Deputy Prime Minister, Sheikh Khalid bin Abdulla Al Khalifa, Deputy Prime Minister."
       ]
      },
      {
       "output_type": "stream",
       "stream": "stdout",
       "text": [
        " \n",
        "\n",
        "Formation of the new government headed by Bahraini Khalifa bin Salman googletag.cmd.push ()\r\n",
        "              \r\n",
        "               \r\n",
        "    \r\n",
        "      \r\n",
        "        \r\n",
        "          \r\n",
        "        \r\n",
        "        \r\n",
        "          \r\n",
        "        Home\r\n",
        "      \r\n",
        "        \r\n",
        "        \r\n",
        "      \r\n",
        "    \r\n",
        "   \r\n",
        "    \r\n",
        "      \r\n",
        "        \r\n",
        "          \r\n",
        "        \r\n",
        "        \r\n",
        "           \r\n",
        "              Political scene\r\n",
        "            \r\n",
        "        \r\n",
        "        \r\n",
        "      \r\n",
        "    \r\n",
        "    \r\n",
        "          \r\n",
        "            \u2022 SPA (Manama)\r\n",
        "          \r\n",
        "          \r\n",
        "          \r\n",
        "          \r\n",
        "           \r\n",
        "          \r\n",
        "          \r\n",
        "          \r\n",
        "         \r\n",
        "                    \r\n",
        "                  \r\n",
        "                  \r\n",
        "                   \r\n",
        "                \r\n",
        "            \r\n",
        "            \r\n",
        "              \r\n",
        "            \r\n",
        "          \r\n",
        "        King Hamad bin Isa Al Khalifa of Bahrain yesterday issued a royal decree to form a new government headed by Prince Khalifa bin Salman Al Khalifa.Under the decree to appoint Crown Prince Salman bin Hamad Al Khalifa, First Deputy Prime Minister Sheikh Mohammed bin Mubarak Al Khalifa and Sheikh Ali bin Khalifa Al Khalifa Bin Jawad Salim broadband and Sheikh Khalid bin Abdullah Al Khalifa, Vice-President of the Council of Ministers.As to appoint Mohammed Al Mutawa, Minister for Follow Up Affairs and Lt. General Sheikh Rashid bin Abdullah Al Khalifa, Minister of the Interior, and Sheikh Khalid bin Ahmed Al Khalifa, Minister of Foreign Affairs Sheikh Ahmed bin Mohammed Al Khalifa, Minister of Finance and Dr. Majid Al-Naimi, Minister of Education and Dr. Abdul Hussain Mirza, Minister of Energy."
       ]
      },
      {
       "output_type": "stream",
       "stream": "stdout",
       "text": [
        " \n",
        "\n",
        "Bahrain's king issued a royal decree to form a new government, King Hamad bin Isa Al Khalifa of Bahrain issued a royal decree to form a new government headed by Prince Khalifa bin Salman Al Khalifa."
       ]
      },
      {
       "output_type": "stream",
       "stream": "stdout",
       "text": [
        " \n",
        "\n",
        "Bahrain: a royal decree to form a new government Manama / Bahrain issued a monarch Hamad bin Isa Al Khalifa issued a royal decree to form a government, according to the proposed line last week, Prime Minister-designate Khalifa bin Salman Al Khalifa started."
       ]
      },
      {
       "output_type": "stream",
       "stream": "stdout",
       "text": [
        " \n",
        "\n",
        "\"Home\" Bahraini government publishes the names of the new \"home\" Bahraini government published new names\n",
        "\n",
        "\n",
        "Wrote: Mohammed Ali Hassan\n",
        "12 minutes ago\n",
        "\n",
        "\n",
        " Print\n",
        " \n",
        "\n",
        "\n",
        "\n",
        "\n",
        "\n",
        "\n",
        "\n",
        "\n",
        "\n",
        " \n",
        "\n",
        "\n",
        " \n",
        "\n",
        "King of Bahrain's King Hamad bin Isa Al Khalifa\n",
        "\n",
        "King of Bahrain issued a King Hamad bin Isa Al Khalifa, a royal decree to form a new government headed by Prince Khalifa bin Salman Al Khalifa, who is the oldest prime minister in the world."
       ]
      },
      {
       "output_type": "stream",
       "stream": "stdout",
       "text": [
        " \n",
        "\n",
        "Bahrain's king issued a decree forming the government tributaries _ Manama:\n",
        "Bahrain's King Hamad bin Isa Al Khalifa issued a royal decree to form a government, according to the proposed line last week, Prime Minister-designate Khalifa bin Salman Al Khalifa started."
       ]
      },
      {
       "output_type": "stream",
       "stream": "stdout",
       "text": [
        " \n",
        "\n",
        "Bahrain's king issued a decree forming the government agencies newspaper Dawadmy:\r\n",
        "\r\n",
        "Bahrain's King Hamad bin Isa Al Khalifa issued a royal decree to form a government, according to the proposed line last week, Prime Minister-designate Khalifa bin Salman Al Khalifa started."
       ]
      },
      {
       "output_type": "stream",
       "stream": "stdout",
       "text": [
        " \n",
        "\n",
        "Ministers publish new government of Bahrain has issued the names of the Bahraini monarch, King Hamad bin Isa Al Khalifa royal decree, on Saturday evening, the formation of the new government.Include government four new faces, while the empty list Wazzraaljadded of \u00abSamira Ibrahim bin Rajab, Minister of State for Information and exit 3 of the ruling Al Khalifa family of forming cabinet are Minister of State for Defence, Sheikh Mohammed bin Abdullah Al Khalifa, Minister of State for Communications Shaikh Fawaz bin Mohammed Al Khalifa, the Minister of Culture Shaikha Mai bin Mohammed Al Khalifa, Bahraini newspaper, according to the center.According to the text of the decree forming the government, which was published by the Bahrain News Agency, it is Prince Salman bin Hamad bin Isa Al Khalifa, Crown Prince and Deputy appointed Supreme Commander, First Deputy Prime Minister."
       ]
      },
      {
       "output_type": "stream",
       "stream": "stdout",
       "text": [
        " \n",
        "\n",
        "Heart //....almnama facts: the greatest danger \u00abHezbollah\u00bb and not \u00abQaeda\u00bb and \u00abDaash\u00bb said Bahraini Foreign Minister Sheikh Khaled bin Ahmed al-Khalifa said regulatory \u00ab(Al-Qaeda) and (Daash) are not the greatest danger, but the danger the biggest lies in the (Hezbollah), which has the support of the countries involved itself in the financing of terrorism. \u00bbHe said in the first session of the Manama Dialogue, titled \u00abstrategic priorities in the Middle East\u00bb that \u00abwe must work to stop the financing of terrorism, which comes just as important as military intervention to combat terrorism\u00bb, stressing that \u00abimperative for Iran to move away from funding and support radical groups and extend the hand of cooperation with the countries of the region in the fight against these extremist groups in order to ruleRegional security and make it a priority \u00bb.oshdd\u00ab the need to combat the sectarian divide in this region and upgrading the tools of positive education building and religious tolerance, and work to reduce education-based sectarian incitement \u00bb.uetoly\u00ab International Institute for Strategic Studies \u00bbchannel\u00ab Sky News Arab \u00bbOrganization Forum.He noted Foreign Minister to \u00abthat the differences between the GCC countries and Iran will remain as long as Iran continues to intervene in the affairs of nations, and no doubt that the differences arise between now and then, but we can not allow them to control our own destiny, and must undermine the chances of conflict and tension in neighboring countries \u00bb.Experts and politicians high-agreed level of the Gulf, Iran and the world, took part in the tenth session of the \u00abManama Dialogue\u00bb, the need to create a dialogue between Saudi Arabia and Iran mechanisms in order to ensure stability in the Almntqh.oukal number of ministers and experts that the settlement of conflicts in the Middle East, especially in the face of the organization of threats \u00abDaash\u00bb, passes through the development of a regional dialogue between Riyadh and Tehran mechanisms.For his part, the Crown Prince of Bahrain, Prince Salman bin Hamad Al Khalifa called on the international community to abandon the term \u00abwar on terror\u00bb and compensated fight \u00abevil theocracy\u00bb, referring to the organization \u00abIslamic State\u00bb Almtparty.oukal: \u00abI invite you to the exclusion of the phrase (war on terrorism) and that concentrated on the real threat posed by the rise of the theocracy of evil. \u00bb"
       ]
      },
      {
       "output_type": "stream",
       "stream": "stdout",
       "text": [
        " \n",
        "\n",
        "President, Vice President and governors receiving telegrams of congratulations from the King of Bahrain and the Prime Minister's National Day [embedded content] Tweet received His Highness Sheikh Khalifa bin Zayed\r\n",
        "\r\n",
        "<!--\r\n",
        "google_ad_client = \"ca-pub-8911438564669635\" \r\n",
        "\r\n",
        "google_ad_slot = \"9949355105\" \r\n",
        "google_ad_width = 300 \r\n",
        "google_ad_height = 250 \r\n",
        "//-->\r\n",
        "\r\n",
        "\r\n",
        "\r\n",
        " \u0622\u0644 \u0646\u0647\u064a\u0627\u0646 \u0631\u0626\u064a\u0633 \u0627\u0644\u062f\u0648\u0644\u0629\u060c \u062d\u0641\u0638\u0647 \u0627\u0644\u0644\u0647\u060c \u0628\u0631\u0642\u064a\u0629 \u062a\u0647\u0646\u0626\u0629 \u0645\u0646 \u0623\u062e\u064a\u0647 \u0627\u0644\u0645\u0644\u0643 \u062d\u0645\u062f \u0628\u0646 \u0639\u064a\u0633\u0649 \u0622\u0644 \u062e\u0644\u064a\u0641\u0629 \u0639\u0627\u0647\u0644 \u0645\u0645\u0644\u0643\u0629 \u0627\u0644\u0628\u062d\u0631\u064a\u0646 \u0628\u0645\u0646\u0627\u0633\u0628\u0629 \u0627\u0644\u0630\u0643\u0631\u0649 \u0627\u0644\u062b\u0627\u0644\u062b\u0629 \u0648\u0627\u0644\u0623\u0631\u0628\u0639\u064a\u0646 \u0644\u0644\u064a\u0648\u0645 \u0627\u0644\u0648\u0637\u0646\u064a\u060c \u0623\u0639\u0631\u0628 \u062c\u0644\u0627\u0644\u062a\u0647 \u0641\u064a\u0647\u0627 \u0639\u0646 \u0623\u0637\u064a\u0628 \u062a\u0647\u0627\u0646\u064a\u0647 \u0648\u062e\u0627\u0644\u0635 \u062a\u0645\u0646\u064a\u0627\u062a\u0647 \u0644\u0633\u0645\u0648\u0647 \u0628\u0645\u0648\u0641\u0648\u0631 \u0627\u0644\u0635\u062d\u0629 \u0648\u0627\u0644\u0633\u0639\u0627\u062f\u0629 \u0648\u0644\u0634\u0639\u0628 \u062f\u0648\u0644\u0629 \u0627\u0644\u0625\u0645\u0627\u0631\u0627\u062a \u0627\u0644\u0645\u0632\u064a\u062f \u0645\u0646 \u0627\u0644\u062a\u0642\u062f\u0645 \u0648\u0627\u0644\u0627\u0632\u062f\u0647\u0627\u0631 \u0641\u064a \u0638\u0644 \u0642\u064a\u0627\u062f\u0629 \u0633\u0645\u0648\u0647 \u0627\u0644\u062d\u0643\u064a\u0645\u0629.He praised the king of Bahrain on the occasion depth and durability of the historical fraternal relations strong and distinguished between the two countries and the two brotherly peoples and witnessed the development and growth in all areas.His Highness the Head of State also received a similar cable from Prince Khalifa bin Salman Al Khalifa, Chairman of the Bahraini Prime Minister in which he expressed sincere congratulations and best wishes to His Highness this national occasion, praying to God Almighty that this occasion brings to his good health and happiness and the people of the State Emirates, Yemen and the goodness and blessings under the leadership of His Highness wise."
       ]
      },
      {
       "output_type": "stream",
       "stream": "stdout",
       "text": [
        " \n",
        "\n",
        "A royal decree to form a new Bahraini government issued a Bahraini King Hamad bin Isa Al Khalifa issued a royal decree to form a new government headed by Prince Khalifa bin Salman Al Khalifa, as well as Prince Salman bin Hamad Al Khalifa, Crown Prince and Deputy Supreme Commander of the appointment, First Deputy Prime Minister, Sheikh Mohammed bin Mubarak Al Khalifa and Sheikh Ali bin Khalifa Al Khalifa Bin Jawad Salim broadbandSheikh Khalid bin Abdullah Al Khalifa, Vice-President of the Council of Ministers."
       ]
      },
      {
       "output_type": "stream",
       "stream": "stdout",
       "text": [
        " \n",
        "\n",
        "Bahrain's king issued a royal decree to form a new government, King Hamad bin Isa Al Khalifa of Bahrain issued a royal decree to form a new government headed by Prince Khalifa\r\n",
        "\r\n",
        "<! -\r\n",
        "google_ad_client = \"ca-pub-8911438564669635\"\r\n",
        "\r\n",
        "google_ad_slot = \"9949355105\"\r\n",
        "google_ad_width = 300\r\n",
        "google_ad_height = 250\r\n",
        "// ->\r\n",
        "\r\n",
        "\r\n",
        "\r\n",
        " Bin Salman Al Khalifa.He spent the decree carried by the Bahrain News Agency on the appointment of Crown Prince Salman bin Hamad Al Khalifa, First Deputy Prime Minister Sheikh Mohammed bin Mubarak Al Khalifa and Sheikh Ali bin Khalifa Al Khalifa and Jawad bin Salem broadband and Sheikh Khalid bin Abdullah Al Khalifa, Vice-Chairman of the Board Ministers.Decree appointing Mohammed Al Mutawa, Minister for Follow Up Affairs and Lt. General Sheikh Rashid bin Abdullah Al Khalifa, Minister of the Interior, and Sheikh Khalid bin Ahmed Al Khalifa, Minister of Foreign Affairs Sheikh Ahmed bin Mohammed Al Khalifa, Minister of Finance and Dr. Majid Al-Naimi, Minister of Education and Dr. Abdul Hussain Mirza, Minister of Energy also spent.Has been appointed Sheikh Khalid bin Ali Al Khalifa, Minister of Justice and Islamic Affairs, Endowments, Essam Khalaf, Minister of Works and Municipal Affairs and Urban Planning and beautiful Humaydan Minister of Labour and Kamal bin Ahmed, Minister of Transportation and Communications and the name of the Khmer and the Minister of Housing.Was appointed Ghanem Albuainain Minister for the Shura Council and the House of Representatives and honest Shihabi Minister of Health and Maj. Gen. Joseph Jalahmah minister for defense and super good and Minister of Social Development and Zayed Al Zayani and Minister of Industry, Trade and Isa Al Hammadi, minister for Media Affairs."
       ]
      },
      {
       "output_type": "stream",
       "stream": "stdout",
       "text": [
        " \n",
        "\n",
        "\u00abKhalifa humanitarian\u00bb provide for the expenses of a mass wedding in Bahrain [embedded content] Tweet ensured Khalifa bin Zayed Al Nahyan Humanitarian Foundation for business for the fourth year in a row wedding expenses\r\n",
        "\r\n",
        "<!--\r\n",
        "google_ad_client = \"ca-pub-8911438564669635\" \r\n",
        "\r\n",
        "google_ad_slot = \"9949355105\" \r\n",
        "google_ad_width = 300 \r\n",
        "google_ad_height = 250 \r\n",
        "//-->\r\n",
        "\r\n",
        "\r\n",
        "\r\n",
        " \u062c\u0645\u0627\u0639\u064a \u0623\u0642\u064a\u0645 \u0641\u064a \u0627\u0644\u0639\u0627\u0635\u0645\u0629 \u0627\u0644\u0628\u062d\u0631\u064a\u0646\u064a\u0629 \u0627\u0644\u0645\u0646\u0627\u0645\u0629 \u0642\u0628\u0644 \u062b\u0644\u0627\u062b\u0629 \u0623\u064a\u0627\u0645 \u0636\u0645 222 \u0634\u0627\u0628\u0627 \u0648\u0641\u062a\u0627\u0629 \u0645\u0646 \u0645\u0645\u0644\u0643\u0629 \u0627\u0644\u0628\u062d\u0631\u064a\u0646 \u062d\u0636\u0631\u0647 \u062e\u0644\u064a\u0641\u0629 \u0628\u0646 \u0623\u062d\u0645\u062f \u0627\u0644\u0638\u0647\u0631\u0627\u0646\u064a \u0631\u0626\u064a\u0633 \u0645\u062c\u0644\u0633 \u0627\u0644\u0646\u0648\u0627\u0628 \u0628\u0645\u0645\u0644\u0643\u0629 \u0627\u0644\u0628\u062d\u0631\u064a\u0646 \u0648\u0623\u062d\u0645\u062f \u0627\u0644\u0645\u0632\u0631\u0648\u0639\u064a \u0627\u0644\u0642\u0627\u0626\u0645 \u0628\u0623\u0639\u0645\u0627\u0644 \u0633\u0641\u0627\u0631\u0629 \u062f\u0648\u0644\u0629 \u0627\u0644\u0625\u0645\u0627\u0631\u0627\u062a \u0641\u064a \u0627\u0644\u0645\u0646\u0627\u0645\u0629\u060c \u0648\u0645\u062d\u0645\u062f \u062d\u0627\u062c\u064a \u0627\u0644\u062e\u0648\u0631\u064a \u0645\u062f\u064a\u0631 \u0639\u0627\u0645 \u0645\u0624\u0633\u0633\u0629 \u062e\u0644\u064a\u0641\u0629 \u0644\u0644\u0623\u0639\u0645\u0627\u0644 \u0627\u0644\u0625\u0646\u0633\u0627\u0646\u064a\u0629\u060c \u0648\u0639\u062f\u062f \u0645\u0646 \u0643\u0628\u0627\u0631 \u0627\u0644\u0645\u0633\u0624\u0648\u0644\u064a\u0646 \u0641\u064a \u0627\u0644\u0628\u062d\u0631\u064a\u0646.And through the Speaker of the Parliament of Bahrain expressed his delight with this concert, which was held with funding from the Khalifa Bin Zayed Al Nahyan Foundation for Humanitarian work and support the Holy of these Emirati Foundation, which emphasizes the depth of relations Searinih- UAE firm and fixed, and strengthening the role of the Gulf of community partnership in support of social projects, stressing that Community Partnership principle of civilized keen on highParticipate in and support, and the Gulf Co-operation for the good and benefit of the people is very Alohmah.damoqal, Bahrain managed by the grace of God and the support of institutions and personalities charitable Bahrain and the Gulf of marriage more than three thousand young men and women of the sons of the Kingdom of Bahrain to support.He also stressed that the Kingdom of Bahrain and the United Arab Emirates share a good relationship, while linking their leaderships fraternal links honest.He explained that the establishment of this mass wedding at a time when celebrates UAE National Day 43 is of great significance, and raise the occasion deepest congratulations and blessings for the UAE under the leadership of His Highness Sheikh Khalifa bin Zayed Al Nahyan, may God protect him.Also gave thanks and appreciation to His Highness Sheikh Mansour bin Zayed Al Nahyan, Deputy Prime Minister and Minister of Presidential Affairs and Chairman Khalifa bin Zayed Foundation Al Nahyan humanitarian work for his continued support for the project mass wedding in the Kingdom of Bahrain, which embodies the highest sense of cooperation and brotherhood inherent They appreciated the auspices of leadership and the people of Bahrain.For his part, Mohammed Haji Al Khouri This mass wedding celebration in the Kingdom of Bahrain comes for the fourth year in a row, which is sponsored by Khalifa Foundation for humanitarian action, where the Foundation seeks to bring joy to the hearts of our brothers in Bahrain and support the mass marriages and to facilitate the marriage on young people.He added that the GCC support young people is the result of ongoing cooperation between the two countries and support for young couples, while the mainland and enhance cooperation and communication and compassion values \u200b\u200bfor the individual and the group's interest in the Cooperation Council for the Arab States of the Gulf.For their part, praised the initiative grooms Khalifa bin Zayed Al Nahyan Humanitarian Foundation for business and sponsorship mass wedding that has contributed to alleviate the costs of marriage and to provide support for the establishment of a cohesive families.It is worth mentioning that the Khalifa Foundation for Humanitarian work sponsored yet Marriage 888 groom and his bride during four concerts collective marriage in Bahrain, the first in December 2011, and the number of grooms 220 groom and his bride, and the second in 2012 and included 224 groom and the bride and the third in 2013, which included 222, and nominated this year, which also included 222 groom and bride.The content of the newspaper statement: Do not miss these are the news: Reham artist combines heritage and Almasrhbalsour ..This is what we know so far about the \"crime of the veil\" in Abuzbebar.s. Sheikh Saud Ascananjaz Protection Project bridges \u00abDubai Metro\u00bb and its facilities Alaloahtriq Dubai: intelligent control of the follow-up testing and education centers Alkiedhmamed bin Saud:Khalifa reinforced corners Alathaderis State receives a congratulatory telegram from President Alsudanaabdallah bin Zayed participates in the Committee of the Arab Peace Initiative \u00abFederal National Meeting\u00bb cope with the rise of the UAE Elhoudariamamed bin Zayed, Crown Princes witness the ceremonial Alalmmamed bin Zayed Mohammed VI lead Aljmahmamed bin Rashid prayer attend the wedding two sons ceremony Hamid Al Muhairi"
       ]
      },
      {
       "ename": "HTTPError",
       "evalue": "HTTP Error 500: Internal Server Error",
       "output_type": "pyerr",
       "traceback": [
        "\u001b[1;31m---------------------------------------------------------------------------\u001b[0m\n\u001b[1;31mHTTPError\u001b[0m                                 Traceback (most recent call last)",
        "\u001b[1;32m<ipython-input-162-01d00a343cbb>\u001b[0m in \u001b[0;36m<module>\u001b[1;34m()\u001b[0m\n\u001b[0;32m      7\u001b[0m         \u001b[1;32mfor\u001b[0m \u001b[0mday\u001b[0m \u001b[1;32min\u001b[0m \u001b[0mdata\u001b[0m\u001b[1;33m[\u001b[0m\u001b[0mcountry\u001b[0m\u001b[1;33m]\u001b[0m\u001b[1;33m:\u001b[0m\u001b[1;33m\u001b[0m\u001b[0m\n\u001b[0;32m      8\u001b[0m             \u001b[1;32mfor\u001b[0m \u001b[0mtitle\u001b[0m \u001b[1;32min\u001b[0m \u001b[0mdata\u001b[0m\u001b[1;33m[\u001b[0m\u001b[0mcountry\u001b[0m\u001b[1;33m]\u001b[0m\u001b[1;33m[\u001b[0m\u001b[0mday\u001b[0m\u001b[1;33m]\u001b[0m\u001b[1;33m[\u001b[0m\u001b[1;34m\"titles\"\u001b[0m\u001b[1;33m]\u001b[0m\u001b[1;33m:\u001b[0m\u001b[1;33m\u001b[0m\u001b[0m\n\u001b[1;32m----> 9\u001b[1;33m                 \u001b[1;32mprint\u001b[0m \u001b[0mgs\u001b[0m\u001b[1;33m.\u001b[0m\u001b[0mtranslate\u001b[0m\u001b[1;33m(\u001b[0m\u001b[0mtitle\u001b[0m\u001b[1;33m,\u001b[0m \u001b[1;34m'en'\u001b[0m\u001b[1;33m)\u001b[0m\u001b[1;33m,\u001b[0m \u001b[1;34m'\\n'\u001b[0m\u001b[1;33m\u001b[0m\u001b[0m\n\u001b[0m",
        "\u001b[1;32m/home/tskatom/.local/lib/python2.7/site-packages/goslate.pyc\u001b[0m in \u001b[0;36mtranslate\u001b[1;34m(self, text, target_language, source_language)\u001b[0m\n\u001b[0;32m    387\u001b[0m             \u001b[1;32mif\u001b[0m \u001b[0misinstance\u001b[0m\u001b[1;33m(\u001b[0m\u001b[0mtext\u001b[0m\u001b[1;33m,\u001b[0m \u001b[0municode\u001b[0m\u001b[1;33m)\u001b[0m\u001b[1;33m:\u001b[0m\u001b[1;33m\u001b[0m\u001b[0m\n\u001b[0;32m    388\u001b[0m                 \u001b[0mtext\u001b[0m \u001b[1;33m=\u001b[0m \u001b[0mtext\u001b[0m\u001b[1;33m.\u001b[0m\u001b[0mencode\u001b[0m\u001b[1;33m(\u001b[0m\u001b[1;34m'utf-8'\u001b[0m\u001b[1;33m)\u001b[0m\u001b[1;33m\u001b[0m\u001b[0m\n\u001b[1;32m--> 389\u001b[1;33m             \u001b[1;32mreturn\u001b[0m \u001b[0m_unwrapper_single_element\u001b[0m\u001b[1;33m(\u001b[0m\u001b[0mself\u001b[0m\u001b[1;33m.\u001b[0m\u001b[0m_translate_single_text\u001b[0m\u001b[1;33m(\u001b[0m\u001b[0mtext\u001b[0m\u001b[1;33m,\u001b[0m \u001b[0mtarget_language\u001b[0m\u001b[1;33m,\u001b[0m \u001b[0msource_language\u001b[0m\u001b[1;33m)\u001b[0m\u001b[1;33m)\u001b[0m\u001b[1;33m\u001b[0m\u001b[0m\n\u001b[0m\u001b[0;32m    390\u001b[0m \u001b[1;33m\u001b[0m\u001b[0m\n\u001b[0;32m    391\u001b[0m         \u001b[0mJOINT\u001b[0m \u001b[1;33m=\u001b[0m \u001b[1;34mu'\\u26ff'\u001b[0m\u001b[1;33m\u001b[0m\u001b[0m\n",
        "\u001b[1;32m/home/tskatom/.local/lib/python2.7/site-packages/goslate.pyc\u001b[0m in \u001b[0;36m_translate_single_text\u001b[1;34m(self, text, target_language, source_lauguage)\u001b[0m\n\u001b[0;32m    315\u001b[0m             \u001b[1;32mreturn\u001b[0m \u001b[1;32mlambda\u001b[0m\u001b[1;33m:\u001b[0m \u001b[0mself\u001b[0m\u001b[1;33m.\u001b[0m\u001b[0m_basic_translate\u001b[0m\u001b[1;33m(\u001b[0m\u001b[0mtext\u001b[0m\u001b[1;33m,\u001b[0m \u001b[0mtarget_language\u001b[0m\u001b[1;33m,\u001b[0m \u001b[0msource_lauguage\u001b[0m\u001b[1;33m)\u001b[0m\u001b[1;33m[\u001b[0m\u001b[1;36m0\u001b[0m\u001b[1;33m]\u001b[0m\u001b[1;33m\u001b[0m\u001b[0m\n\u001b[0;32m    316\u001b[0m \u001b[1;33m\u001b[0m\u001b[0m\n\u001b[1;32m--> 317\u001b[1;33m         \u001b[0mresults\u001b[0m \u001b[1;33m=\u001b[0m \u001b[0mlist\u001b[0m\u001b[1;33m(\u001b[0m\u001b[0mself\u001b[0m\u001b[1;33m.\u001b[0m\u001b[0m_execute\u001b[0m\u001b[1;33m(\u001b[0m\u001b[0mmake_task\u001b[0m\u001b[1;33m(\u001b[0m\u001b[0mi\u001b[0m\u001b[1;33m)\u001b[0m \u001b[1;32mfor\u001b[0m \u001b[0mi\u001b[0m \u001b[1;32min\u001b[0m \u001b[0msplit_text\u001b[0m\u001b[1;33m(\u001b[0m\u001b[0mtext\u001b[0m\u001b[1;33m)\u001b[0m\u001b[1;33m)\u001b[0m\u001b[1;33m)\u001b[0m\u001b[1;33m\u001b[0m\u001b[0m\n\u001b[0m\u001b[0;32m    318\u001b[0m         \u001b[1;32mreturn\u001b[0m \u001b[0mtuple\u001b[0m\u001b[1;33m(\u001b[0m\u001b[1;34m''\u001b[0m\u001b[1;33m.\u001b[0m\u001b[0mjoin\u001b[0m\u001b[1;33m(\u001b[0m\u001b[0mi\u001b[0m\u001b[1;33m[\u001b[0m\u001b[0mn\u001b[0m\u001b[1;33m]\u001b[0m \u001b[1;32mfor\u001b[0m \u001b[0mi\u001b[0m \u001b[1;32min\u001b[0m \u001b[0mresults\u001b[0m\u001b[1;33m)\u001b[0m \u001b[1;32mfor\u001b[0m \u001b[0mn\u001b[0m \u001b[1;32min\u001b[0m \u001b[0mrange\u001b[0m\u001b[1;33m(\u001b[0m\u001b[0mlen\u001b[0m\u001b[1;33m(\u001b[0m\u001b[0mself\u001b[0m\u001b[1;33m.\u001b[0m\u001b[0m_writing\u001b[0m\u001b[1;33m)\u001b[0m\u001b[1;33m)\u001b[0m\u001b[1;33m)\u001b[0m\u001b[1;33m\u001b[0m\u001b[0m\n\u001b[0;32m    319\u001b[0m \u001b[1;33m\u001b[0m\u001b[0m\n",
        "\u001b[1;32m/home/tskatom/.local/lib/python2.7/site-packages/goslate.pyc\u001b[0m in \u001b[0;36m_execute\u001b[1;34m(self, tasks)\u001b[0m\n\u001b[0;32m    210\u001b[0m \u001b[1;33m\u001b[0m\u001b[0m\n\u001b[0;32m    211\u001b[0m             \u001b[1;32mif\u001b[0m \u001b[0mexception\u001b[0m\u001b[1;33m:\u001b[0m\u001b[1;33m\u001b[0m\u001b[0m\n\u001b[1;32m--> 212\u001b[1;33m                 \u001b[1;32mraise\u001b[0m \u001b[0mexception\u001b[0m\u001b[1;33m\u001b[0m\u001b[0m\n\u001b[0m\u001b[0;32m    213\u001b[0m \u001b[1;33m\u001b[0m\u001b[0m\n\u001b[0;32m    214\u001b[0m \u001b[1;33m\u001b[0m\u001b[0m\n",
        "\u001b[1;31mHTTPError\u001b[0m: HTTP Error 500: Internal Server Error"
       ]
      },
      {
       "output_type": "stream",
       "stream": "stdout",
       "text": [
        " \n",
        "\n"
       ]
      }
     ],
     "prompt_number": 162
    }
   ],
   "metadata": {}
  }
 ]
}