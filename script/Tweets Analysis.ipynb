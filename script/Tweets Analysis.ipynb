{
 "metadata": {
  "name": "Tweets Analysis"
 },
 "nbformat": 3,
 "nbformat_minor": 0,
 "worksheets": [
  {
   "cells": [
    {
     "cell_type": "heading",
     "level": 1,
     "metadata": {},
     "source": [
      "Analyze the distribution of the company Tweets"
     ]
    },
    {
     "cell_type": "code",
     "collapsed": false,
     "input": [
      "import json\n",
      "from glob import glob\n",
      "import os\n",
      "import pandas as pds\n",
      "\n",
      "tweet_folder = \"/raid/tskatom/company_total_cleaned/\"\n",
      "files = glob(os.path.join(tweet_folder, \"*\"))\n",
      "tweets_count = {}\n",
      "for f in files:\n",
      "    company = os.path.basename(f)\n",
      "    tweets_count[company] = {}\n",
      "    with open(f) as tf:\n",
      "        tweets = json.load(tf)\n",
      "        days = sorted(tweets.keys())\n",
      "        for day in days:\n",
      "            tweets_count[company][day] = len(tweets[day])\n",
      "        tweets_count[company].setdefault(\"2009-01-01\", 0)\n",
      "        tweets_count[company].setdefault(\"2014-09-01\", 0)"
     ],
     "language": "python",
     "metadata": {},
     "outputs": [
      {
       "output_type": "stream",
       "stream": "stderr",
       "text": [
        "/home/tskatom/.local/lib/python2.7/site-packages/pandas/io/excel.py:626: UserWarning: Installed openpyxl is not supported at this time. Use >=1.6.1 and <2.0.0.\n",
        "  .format(openpyxl_compat.start_ver, openpyxl_compat.stop_ver))\n"
       ]
      }
     ],
     "prompt_number": 1
    },
    {
     "cell_type": "heading",
     "level": 2,
     "metadata": {},
     "source": [
      "Compute the time series and previous three days count series"
     ]
    },
    {
     "cell_type": "code",
     "collapsed": false,
     "input": [
      "import pandas as pds\n",
      "\n",
      "company_tweets_count_series = {}\n",
      "for company in tweets_count:\n",
      "    company_series = pds.Series(tweets_count[company])\n",
      "    company_series.index = pds.DatetimeIndex(company_series.index)\n",
      "    company_series = company_series.resample('D').fillna(0)\n",
      "    #for each day, we compute it as prior three days sum count\n",
      "    p3_company_series = (pds.rolling_sum(company_series, 4) - company_series)[3:]\n",
      "    company_tweets_count_series[company] = p3_company_series"
     ],
     "language": "python",
     "metadata": {},
     "outputs": [],
     "prompt_number": 160
    },
    {
     "cell_type": "heading",
     "level": 2,
     "metadata": {},
     "source": [
      "Compute the statistics for company tweets count"
     ]
    },
    {
     "cell_type": "code",
     "collapsed": false,
     "input": [
      "statistic_company_series = {}\n",
      "for company in company_tweets_count_series:\n",
      "    statistic_company_series[company] = {}\n",
      "    statistic_company_series[company][\"mean\"] = np.mean(company_tweets_count_series[company])\n",
      "    statistic_company_series[company][\"std\"] = company_tweets_count_series[company].std()\n",
      "#plot the mean hist and std hist\n",
      "means = [statistic_company_series[company][\"mean\"] for company in company_tweets_count_series]\n",
      "stds = [statistic_company_series[company][\"std\"] for company in company_tweets_count_series]\n",
      "\n",
      "#try the ecdf function\n",
      "sorted_mean = sorted(means)\n",
      "p_sorted_mean = np.arange(len(means)) /  float(len(means))\n",
      "p_sorted_mean_map = {sorted_mean[i]:p_sorted_mean[i] for i in range(len(sorted_mean))}\n",
      "xs, ys = zip(*sorted(p_sorted_mean_map.items(), key=lambda x:x[0]))\n",
      "ax = plt.gca()\n",
      "ax.plot(xs, ys, color='red')\n",
      "ax.set_xlabel('Count')\n",
      "ax.set_ylabel('Probabiliy')\n",
      "ax.set_title('CDF for Average count of sum of Prior 3 days')\n",
      "plt.show()\n",
      "\n",
      "#compute the standard score for each day and each company\n",
      "standard_score_company = {}\n",
      "for company in company_tweets_count_series:\n",
      "    standard_score_company[company] = {}\n",
      "    m = statistic_company_series[company][\"mean\"]\n",
      "    s = statistic_company_series[company][\"std\"]\n",
      "    standard_score_company[company] = (company_tweets_count_series[company]-m)/s"
     ],
     "language": "python",
     "metadata": {},
     "outputs": [
      {
       "output_type": "display_data",
       "png": "[encoded data removed]"
      }
     ],
     "prompt_number": 161
    },
    {
     "cell_type": "heading",
     "level": 2,
     "metadata": {},
     "source": [
      "Get annnounce date and company Quotes"
     ]
    },
    {
     "cell_type": "code",
     "collapsed": false,
     "input": [
      "from dateutil import parser\n",
      "#load the performance of the announce day for each company\n",
      "announce_date_file = \"/home/tskatom/workspace/company_market/data/AnounceDate_Company.csv\"\n",
      "announce_company = {}\n",
      "with open(announce_date_file) as adf:\n",
      "    adf.readline() #titles\n",
      "    for line in adf:\n",
      "        company, c_type, c_size, reports = line.strip().split(\"\\t\", 3)\n",
      "        days = reports.split(\"\\t\")[::2]\n",
      "        days = [parser.parse(d).strftime(\"%Y-%m-%d\") for d in days if d.strip() != \"\"]\n",
      "        announce_company[company] = days\n",
      "        \n",
      "#get the quotes information from Yahoo finance\n",
      "def get_quotes(symbol, start='2009-01-01', end='2014-10-15'):\n",
      "    from matplotlib.finance import quotes_historical_yahoo\n",
      "    s_year, s_month, s_day = map(int, start.split('-'))\n",
      "    e_year, e_month, e_day = map(int, end.split('-'))\n",
      "    date1 = datetime.date( s_year, s_month, s_day)\n",
      "    date2 = datetime.date( e_year, e_month, e_day)\n",
      "    quotes = quotes_historical_yahoo(symbol, date1, date2, adjusted=True)\n",
      "    if len(quotes) == 0:\n",
      "        print \"No quotes data\"\n",
      "        return\n",
      "    days = [matplotlib.dates.num2date(q[0]).strftime(\"%Y-%m-%d\") for q in quotes]\n",
      "    closes = [q[2] for q in quotes]\n",
      "    prices = {days[i]: closes[i] for i in range(len(days))}\n",
      "    price_series = pds.TimeSeries(prices)\n",
      "    price_series.index = pds.DatetimeIndex(price_series.index)\n",
      "    price_series = price_series.resample(\"D\")\n",
      "    return price_series\n",
      "\n",
      "company_quotes = {}\n",
      "for company in announce_company:\n",
      "    company_quotes[company] = get_quotes(company)"
     ],
     "language": "python",
     "metadata": {},
     "outputs": [],
     "prompt_number": 162
    },
    {
     "cell_type": "heading",
     "level": 2,
     "metadata": {},
     "source": [
      "Find the relation between Market response and Scial Media Interest"
     ]
    },
    {
     "cell_type": "code",
     "collapsed": false,
     "input": [
      "def num2state(num):\n",
      "    if num <= 0.01:\n",
      "        return \"trivial\"\n",
      "    elif num <= 0.03:\n",
      "        return \"moderate\"\n",
      "    elif num <= 0.07:\n",
      "        return \"strong\"\n",
      "    else:\n",
      "        return \"extreme\"\n",
      "\n",
      "#Find the abnormal days among announce days\n",
      "f = lambda x: x.strftime(\"%Y-%m-%d\")\n",
      "market_filter = lambda x: x in [\"extreme\", \"strong\"]\n",
      "\n",
      "all_announce_days = 0\n",
      "all_tweet_announce_days = 0\n",
      "all_tweet_announce_market_days = 0\n",
      "\n",
      "company_sigma_days = []\n",
      "for company in announce_company:\n",
      "    days = set(announce_company[company])\n",
      "    tweet_highsig_days = set(map(f, list(standard_score_company[company].ix[standard_score_company[company] >= 2.0].index)))\n",
      "    company_sigma_days.append(len(tweet_highsig_days))\n",
      "    announce_highsig_days = days.intersection(tweet_highsig_days)\n",
      "    announce_not_highsig_days = days.difference(tweet_highsig_days)\n",
      "    #print company, len(announce_highsig_days), len(announce_not_highsig_days),'------>' ,1.0*len(announce_highsig_days)/(len(announce_highsig_days) + len(announce_not_highsig_days))\n",
      "    quotes = company_quotes[company]\n",
      "    abs_company_return = abs(quotes.pct_change())\n",
      "    company_return_states = pds.Series(map(num2state, abs_company_return), index=abs_company_return.index)\n",
      "    announce_highsig_days_status = [company_return_states[day] for day in announce_highsig_days]\n",
      "    announce_not_highsig_days_status = [company_return_states[day] for day in announce_not_highsig_days]\n",
      "    \n",
      "    \n",
      "    total_tweet_abnorm_count = len(tweet_highsig_days)\n",
      "    tweet_abnorm_announce = len(announce_highsig_days)\n",
      "    total_announce = len(days)\n",
      "    num_tweet_market = len(filter(market_filter, announce_highsig_days_status))\n",
      "    num_normal_market = len(filter(market_filter, announce_not_highsig_days_status))\n",
      "    \n",
      "    all_announce_days += total_announce\n",
      "    all_tweet_announce_days += tweet_abnorm_announce\n",
      "    all_tweet_announce_market_days += num_tweet_market\n",
      "    \n",
      "    #compute support and confidence for each company\n",
      "    support = 1.0 * num_tweet_market / total_announce\n",
      "    confidence = 1.0 * num_tweet_market / (tweet_abnorm_announce if tweet_abnorm_announce > 0 else 1)\n",
      "    tweet_abn_ratio = 1.0 * tweet_abnorm_announce / total_announce\n",
      "    extreme_ratio = 1.0 * (num_tweet_market + num_normal_market) / total_announce\n",
      "    if tweet_abn_ratio == 0:\n",
      "        continue\n",
      "    #print \"%s -- ratio:%0.2f -- support: %0.2f -- confidence: %0.2f --extreme_ratio: %0.2f\" % (company, tweet_abn_ratio, support, confidence, extreme_ratio), num_tweet_market, tweet_abnorm_announce, total_announce\n",
      "    print \"%s\\t%0.2f\\t%0.2f\\t%d\\t%d\\t%d\\t%d\" % (company, support, confidence, tweet_abnorm_announce, num_tweet_market,num_tweet_market + num_normal_market, total_announce)\n",
      "\n",
      "all_support = 1.0 * all_tweet_announce_market_days / all_announce_days\n",
      "all_confidence = 1.0 * all_tweet_announce_market_days / all_tweet_announce_days\n",
      "print \"Overall Support=%0.2f -- Confidence=%0.2f\" % (all_support, all_confidence)"
     ],
     "language": "python",
     "metadata": {},
     "outputs": [
      {
       "output_type": "stream",
       "stream": "stdout",
       "text": [
        "EL\t0.04\t1.00\t1\t1\t13\t23\n",
        "DX\t0.00\t0.00\t1\t0\t1\t13"
       ]
      },
      {
       "output_type": "stream",
       "stream": "stdout",
       "text": [
        "\n",
        "MFRM\t0.00\t0.00\t1\t0\t7\t12"
       ]
      },
      {
       "output_type": "stream",
       "stream": "stdout",
       "text": [
        "\n",
        "IRBT\t0.04\t1.00\t1\t1\t7\t23\n",
        "DOV\t0.04\t0.50\t2\t1\t8\t23\n",
        "OMCL\t0.00\t0.00\t1\t0\t7\t23"
       ]
      },
      {
       "output_type": "stream",
       "stream": "stdout",
       "text": [
        "\n",
        "PKT\t0.00\t0.00\t1\t0\t4\t11"
       ]
      },
      {
       "output_type": "stream",
       "stream": "stdout",
       "text": [
        "\n",
        "LH\t0.04\t1.00\t1\t1\t5\t23"
       ]
      },
      {
       "output_type": "stream",
       "stream": "stdout",
       "text": [
        "\n",
        "POWI\t0.00\t0.00\t1\t0\t6\t23\n",
        "AEO\t0.13\t1.00\t3\t3\t18\t23"
       ]
      },
      {
       "output_type": "stream",
       "stream": "stdout",
       "text": [
        "\n",
        "CASY\t0.00\t0.00\t1\t0\t3\t23"
       ]
      },
      {
       "output_type": "stream",
       "stream": "stdout",
       "text": [
        "\n",
        "AEGN\t0.00\t0.00\t1\t0\t0\t11\n",
        "PMT\t0.00\t0.00\t1\t0\t4\t20\n",
        "LULU\t0.04\t0.50\t2\t1\t19\t23"
       ]
      },
      {
       "output_type": "stream",
       "stream": "stdout",
       "text": [
        "\n",
        "EW\t0.04\t0.50\t2\t1\t6\t23"
       ]
      },
      {
       "output_type": "stream",
       "stream": "stdout",
       "text": [
        "\n",
        "CRUS\t0.09\t1.00\t2\t2\t14\t23\n",
        "STX\t0.00\t0.00\t1\t0\t3\t23\n",
        "PIR\t0.05\t0.50\t2\t1\t10\t22"
       ]
      },
      {
       "output_type": "stream",
       "stream": "stdout",
       "text": [
        "\n",
        "MEI\t0.04\t1.00\t1\t1\t18\t23"
       ]
      },
      {
       "output_type": "stream",
       "stream": "stdout",
       "text": [
        "\n",
        "BIG\t0.09\t1.00\t2\t2\t15\t23"
       ]
      },
      {
       "output_type": "stream",
       "stream": "stdout",
       "text": [
        "\n",
        "Overall Support=0.01 -- Confidence=0.54\n"
       ]
      }
     ],
     "prompt_number": 210
    },
    {
     "cell_type": "raw",
     "metadata": {},
     "source": [
      "Answer following Questions:\n",
      "1> how many tweets abnormal days in all 5 years data for each company?\n",
      "2> how many of these days happend in the announcement days?\n",
      "3> Given announcement days, how many of them are tweets abnormal days?\n",
      "4> Given announce tweets abnormal days, how many of them are market special days?\n",
      "5> Given announce tweets normal days, how many of them are market special days?\n",
      "6> Combine all companies data together, compute the support and confidence"
     ]
    },
    {
     "cell_type": "code",
     "collapsed": false,
     "input": [
      "ax1 = plt.gca()\n",
      "ax1.hist(company_sigma_days, bins=15, color=\"green\",\n",
      "label=\"Mean: (%0.2f)\" % np.mean(company_sigma_days))\n",
      "ax1.set_xlabel(\"Day Count\")\n",
      "ax1.set_ylabel(\"Frequency\")\n",
      "ax1.set_title(\"Tweet Abnormal days for 60 Companies(Total Days: 2069)\")\n",
      "ax1.legend()\n",
      "plt.show()"
     ],
     "language": "python",
     "metadata": {},
     "outputs": [
      {
       "output_type": "display_data",
       "png": "[encoded data removed]"
      }
     ],
     "prompt_number": 203
    },
    {
     "cell_type": "heading",
     "level": 2,
     "metadata": {},
     "source": [
      "Define the Anormaly as 3 times mean"
     ]
    },
    {
     "cell_type": "code",
     "collapsed": false,
     "input": [],
     "language": "python",
     "metadata": {},
     "outputs": []
    }
   ],
   "metadata": {}
  }
 ]
}